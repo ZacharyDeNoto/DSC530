{
 "cells": [
  {
   "cell_type": "markdown",
   "metadata": {},
   "source": [
    "DSC 530 Final Project\n",
    "Zack DeNoto\n"
   ]
  },
  {
   "cell_type": "code",
   "execution_count": 307,
   "metadata": {},
   "outputs": [],
   "source": [
    "import pandas as pd\n",
    "import numpy as np\n",
    "import thinkstats2\n",
    "import thinkplot\n"
   ]
  },
  {
   "cell_type": "code",
   "execution_count": 308,
   "metadata": {},
   "outputs": [
    {
     "data": {
      "text/plain": [
       "<bound method NDFrame.head of                                   School_Name School_year Reported  \\\n",
       "0                          HEIGHTS ELEMENTARY     2016-17        N   \n",
       "1                        ROCK CREEK HUTTERITE     2016-17        N   \n",
       "2                   POMEROY JR SR HIGH SCHOOL     2016-17        N   \n",
       "3                       GRANGER MIDDLE SCHOOL     2016-17        Y   \n",
       "4                       GARDENVIEW MONTESSORI     2016-17        N   \n",
       "5                   NEW LIFE CHRISTIAN SCHOOL     2016-17        N   \n",
       "6                        P C JANTZ ELEMENTARY     2016-17        Y   \n",
       "7                PUGET SOUND CHRISTIAN SCHOOL     2016-17        N   \n",
       "8                              SEABURY SCHOOL     2016-17        N   \n",
       "9                                ROOT ACADEMY     2016-17        N   \n",
       "10                         PARK MIDDLE SCHOOL     2016-17        N   \n",
       "11                   JOURNEY CHRISTIAN SCHOOL     2016-17        N   \n",
       "12                      KENNEWICK HIGH SCHOOL     2016-17        N   \n",
       "13              PUGET SOUND ADVENTIST ACADEMY     2016-17        N   \n",
       "14                 DISCOVERY DEPOT MONTESSORI     2016-17        Y   \n",
       "15                SAGEBRUSH MONTESSORI SCHOOL     2016-17        N   \n",
       "16                      THREE TREE MONTESSORI     2016-17        N   \n",
       "17                   SPOKANE FALLS MONTESSORI     2016-17        N   \n",
       "18                                       SRHD     2016-17        N   \n",
       "19                         SOLVE FOR X SCHOOL     2016-17        Y   \n",
       "20                   MILL A ELEMENTARY SCHOOL     2016-17        N   \n",
       "21                           MUKILTEO ACADEMY     2016-17        Y   \n",
       "22                  FIRST CREEK MIDDLE SCHOOL     2016-17        Y   \n",
       "23                              EASTON SCHOOL     2016-17        Y   \n",
       "24                 COLUMBIA ADVENTIST ACADEMY     2016-17        N   \n",
       "25              BONNEY LAKE CHRISTIAN ACADEMY     2016-17        Y   \n",
       "26           JEFFERSON ELEMENTARY (SOUTHSIDE)     2016-17        Y   \n",
       "27                   NELSON ELEMENTARY SCHOOL     2016-17        Y   \n",
       "28                        SACRED HEART SCHOOL     2016-17        Y   \n",
       "29                ST. CHARLES BORROMEO SCHOOL     2016-17        Y   \n",
       "...                                       ...         ...      ...   \n",
       "2565                          ST. MARY SCHOOL     2016-17        Y   \n",
       "2566                   SOUTH PINES ELEMENTARY     2016-17        Y   \n",
       "2567               ZILLAH INTERMEDIATE SCHOOL     2016-17        Y   \n",
       "2568             WASHINGTON ELEMENTARY SCHOOL     2016-17        Y   \n",
       "2569                     SUNRISE BEACH SCHOOL     2016-17        Y   \n",
       "2570              ST. JOSEPH MARQUETTE SCHOOL     2016-17        Y   \n",
       "2571  VALLEY CHRISTIAN SCHOOL--CENTRAL VALLEY     2016-17        Y   \n",
       "2572                   SOUTH LAKE HIGH SCHOOL     2016-17        Y   \n",
       "2573                   WALLER ROAD ELEMENTARY     2016-17        Y   \n",
       "2574                       WINDSOR ELEMENTARY     2016-17        Y   \n",
       "2575             VAN ASSELT ELEMENTARY SCHOOL     2016-17        Y   \n",
       "2576                   WOODWARD MIDDLE SCHOOL     2016-17        Y   \n",
       "2577    WISHKAH VALLEY ELEMENTARY/HIGH SCHOOL     2016-17        Y   \n",
       "2578               WESTPARK CHRISTIAN ACADEMY     2016-17        Y   \n",
       "2579      WHIDBEY CHRISTIAN ELEMENTARY SCHOOL     2016-17        Y   \n",
       "2580                     WOODRIDGE ELEMENTARY     2016-17        Y   \n",
       "2581                      WESTGATE ELEMENTARY     2016-17        Y   \n",
       "2582         THE WELL-TRAINED MIND MONTESSORI     2016-17        Y   \n",
       "2583                SIMPSON AVENUE ELEMENTARY     2016-17        Y   \n",
       "2584                            TUMWATER WEST     2016-17        Y   \n",
       "2585                           TAHOMA JR HIGH     2016-17        Y   \n",
       "2586                  TODD BEAMER HIGH SCHOOL     2016-17        Y   \n",
       "2587            TALBOT HILL ELEMENTARY SCHOOL     2016-17        Y   \n",
       "2588                  VISTA ELEMENTARY SCHOOL     2016-17        Y   \n",
       "2589                 SULTAN ELEMENTARY SCHOOL     2016-17        Y   \n",
       "2590                  SYLVESTER MIDDLE SCHOOL     2016-17        Y   \n",
       "2591                   WESTWOOD MIDDLE SCHOOL     2016-17        Y   \n",
       "2592                  TRINITY CATHOLIC SCHOOL     2016-17        Y   \n",
       "2593             SUNNYCREST ELEMENTARY SCHOOL     2016-17        Y   \n",
       "2594                       ST. PATRICK SCHOOL     2016-17        Y   \n",
       "\n",
       "      K_12_enrollment  Percent_complete_for_all_immunizations  \\\n",
       "0                 NaN                                     NaN   \n",
       "1                 NaN                                     NaN   \n",
       "2                 NaN                                     NaN   \n",
       "3               480.0                                    99.2   \n",
       "4                 NaN                                     NaN   \n",
       "5                 NaN                                     NaN   \n",
       "6               125.0                                    96.0   \n",
       "7                 NaN                                     NaN   \n",
       "8                 NaN                                     NaN   \n",
       "9                 NaN                                     NaN   \n",
       "10                NaN                                     NaN   \n",
       "11                NaN                                     NaN   \n",
       "12                NaN                                     NaN   \n",
       "13                NaN                                     NaN   \n",
       "14               20.0                                    90.0   \n",
       "15                NaN                                     NaN   \n",
       "16                NaN                                     NaN   \n",
       "17                NaN                                     NaN   \n",
       "18                NaN                                     NaN   \n",
       "19                7.0                                   100.0   \n",
       "20                NaN                                     NaN   \n",
       "21               23.0                                   100.0   \n",
       "22              790.0                                    96.3   \n",
       "23              114.0                                    90.4   \n",
       "24                NaN                                     NaN   \n",
       "25               16.0                                    87.5   \n",
       "26              481.0                                    89.8   \n",
       "27              544.0                                    95.8   \n",
       "28              370.0                                    97.8   \n",
       "29              519.0                                    99.4   \n",
       "...               ...                                     ...   \n",
       "2565            125.0                                    96.8   \n",
       "2566            421.0                                    92.2   \n",
       "2567            290.0                                    93.4   \n",
       "2568            413.0                                    94.9   \n",
       "2569             35.0                                    91.4   \n",
       "2570            331.0                                    91.8   \n",
       "2571            280.0                                    81.8   \n",
       "2572             77.0                                    74.0   \n",
       "2573            343.0                                    95.3   \n",
       "2574            502.0                                    77.1   \n",
       "2575            462.0                                    88.1   \n",
       "2576            603.0                                    94.4   \n",
       "2577            161.0                                    82.6   \n",
       "2578             66.0                                    84.8   \n",
       "2579              8.0                                   100.0   \n",
       "2580            661.0                                    89.3   \n",
       "2581            495.0                                    93.3   \n",
       "2582             14.0                                    78.6   \n",
       "2583            413.0                                    79.4   \n",
       "2584             20.0                                    15.0   \n",
       "2585           1342.0                                    93.1   \n",
       "2586           1701.0                                    79.1   \n",
       "2587            522.0                                    97.3   \n",
       "2588            576.0                                    96.0   \n",
       "2589            547.0                                    84.6   \n",
       "2590            703.0                                    88.3   \n",
       "2591            558.0                                    80.3   \n",
       "2592            153.0                                    92.2   \n",
       "2593            761.0                                    95.1   \n",
       "2594            183.0                                    59.0   \n",
       "\n",
       "      Percent_with_any_exemption  Percent_with_medical_exemption  \\\n",
       "0                            NaN                             NaN   \n",
       "1                            NaN                             NaN   \n",
       "2                            NaN                             NaN   \n",
       "3                            0.2                             0.0   \n",
       "4                            NaN                             NaN   \n",
       "5                            NaN                             NaN   \n",
       "6                            3.2                             0.8   \n",
       "7                            NaN                             NaN   \n",
       "8                            NaN                             NaN   \n",
       "9                            NaN                             NaN   \n",
       "10                           NaN                             NaN   \n",
       "11                           NaN                             NaN   \n",
       "12                           NaN                             NaN   \n",
       "13                           NaN                             NaN   \n",
       "14                           0.0                             0.0   \n",
       "15                           NaN                             NaN   \n",
       "16                           NaN                             NaN   \n",
       "17                           NaN                             NaN   \n",
       "18                           NaN                             NaN   \n",
       "19                           0.0                             0.0   \n",
       "20                           NaN                             NaN   \n",
       "21                           0.0                             0.0   \n",
       "22                           1.1                             0.1   \n",
       "23                           0.0                             0.0   \n",
       "24                           NaN                             NaN   \n",
       "25                          12.5                            12.5   \n",
       "26                           4.0                             0.2   \n",
       "27                           3.7                             1.3   \n",
       "28                           2.2                             0.0   \n",
       "29                           0.6                             0.2   \n",
       "...                          ...                             ...   \n",
       "2565                         1.6                             0.0   \n",
       "2566                         4.0                             1.0   \n",
       "2567                         1.4                             0.3   \n",
       "2568                         2.9                             1.2   \n",
       "2569                         8.6                             5.7   \n",
       "2570                         1.2                             0.0   \n",
       "2571                        18.2                             0.4   \n",
       "2572                        18.2                            14.3   \n",
       "2573                         4.1                             1.5   \n",
       "2574                         7.4                             1.0   \n",
       "2575                         1.1                             0.2   \n",
       "2576                         5.6                             0.8   \n",
       "2577                         5.6                             0.6   \n",
       "2578                         7.6                             0.0   \n",
       "2579                         0.0                             0.0   \n",
       "2580                         4.5                             1.7   \n",
       "2581                         5.5                             1.0   \n",
       "2582                        14.3                             0.0   \n",
       "2583                         7.0                             2.9   \n",
       "2584                         0.0                             0.0   \n",
       "2585                         4.1                             0.7   \n",
       "2586                         2.5                             1.0   \n",
       "2587                         1.9                             0.8   \n",
       "2588                         2.6                             0.7   \n",
       "2589                         5.9                             1.3   \n",
       "2590                         6.4                             4.3   \n",
       "2591                         8.1                             1.3   \n",
       "2592                         7.8                             0.7   \n",
       "2593                         3.7                             0.7   \n",
       "2594                         0.5                             0.5   \n",
       "\n",
       "      Percent_with_personal_exemption  Percent_with_religious_exemption  \\\n",
       "0                                 NaN                               NaN   \n",
       "1                                 NaN                               NaN   \n",
       "2                                 NaN                               NaN   \n",
       "3                                 0.0                               0.2   \n",
       "4                                 NaN                               NaN   \n",
       "5                                 NaN                               NaN   \n",
       "6                                 2.4                               0.0   \n",
       "7                                 NaN                               NaN   \n",
       "8                                 NaN                               NaN   \n",
       "9                                 NaN                               NaN   \n",
       "10                                NaN                               NaN   \n",
       "11                                NaN                               NaN   \n",
       "12                                NaN                               NaN   \n",
       "13                                NaN                               NaN   \n",
       "14                                0.0                               0.0   \n",
       "15                                NaN                               NaN   \n",
       "16                                NaN                               NaN   \n",
       "17                                NaN                               NaN   \n",
       "18                                NaN                               NaN   \n",
       "19                                0.0                               0.0   \n",
       "20                                NaN                               NaN   \n",
       "21                                0.0                               0.0   \n",
       "22                                0.5                               0.5   \n",
       "23                                0.0                               0.0   \n",
       "24                                NaN                               NaN   \n",
       "25                                0.0                               0.0   \n",
       "26                                3.7                               0.0   \n",
       "27                                2.2                               0.4   \n",
       "28                                2.2                               0.0   \n",
       "29                                0.4                               0.0   \n",
       "...                               ...                               ...   \n",
       "2565                              1.6                               0.0   \n",
       "2566                              2.9                               0.0   \n",
       "2567                              0.7                               0.3   \n",
       "2568                              1.7                               0.0   \n",
       "2569                              0.0                               2.9   \n",
       "2570                              1.2                               0.0   \n",
       "2571                             14.3                               2.1   \n",
       "2572                              2.6                               1.3   \n",
       "2573                              2.6                               0.0   \n",
       "2574                              6.2                               0.2   \n",
       "2575                              0.9                               0.0   \n",
       "2576                              4.6                               0.2   \n",
       "2577                              5.6                               0.0   \n",
       "2578                              7.6                               0.0   \n",
       "2579                              0.0                               0.0   \n",
       "2580                              3.0                               0.3   \n",
       "2581                              4.2                               0.2   \n",
       "2582                             14.3                               0.0   \n",
       "2583                              3.1                               1.0   \n",
       "2584                              0.0                               0.0   \n",
       "2585                              3.4                               0.1   \n",
       "2586                              1.4                               0.1   \n",
       "2587                              1.0                               0.0   \n",
       "2588                              1.6                               0.3   \n",
       "2589                              3.5                               0.9   \n",
       "2590                              2.1                               0.0   \n",
       "2591                              6.6                               0.2   \n",
       "2592                              7.2                               0.0   \n",
       "2593                              3.0                               0.0   \n",
       "2594                              0.0                               0.0   \n",
       "\n",
       "      Percent_with_religious_membership_exemption  ...  \\\n",
       "0                                             NaN  ...   \n",
       "1                                             NaN  ...   \n",
       "2                                             NaN  ...   \n",
       "3                                             0.0  ...   \n",
       "4                                             NaN  ...   \n",
       "5                                             NaN  ...   \n",
       "6                                             0.0  ...   \n",
       "7                                             NaN  ...   \n",
       "8                                             NaN  ...   \n",
       "9                                             NaN  ...   \n",
       "10                                            NaN  ...   \n",
       "11                                            NaN  ...   \n",
       "12                                            NaN  ...   \n",
       "13                                            NaN  ...   \n",
       "14                                            0.0  ...   \n",
       "15                                            NaN  ...   \n",
       "16                                            NaN  ...   \n",
       "17                                            NaN  ...   \n",
       "18                                            NaN  ...   \n",
       "19                                            0.0  ...   \n",
       "20                                            NaN  ...   \n",
       "21                                            0.0  ...   \n",
       "22                                            0.0  ...   \n",
       "23                                            0.0  ...   \n",
       "24                                            NaN  ...   \n",
       "25                                            0.0  ...   \n",
       "26                                            0.0  ...   \n",
       "27                                            0.0  ...   \n",
       "28                                            0.0  ...   \n",
       "29                                            0.0  ...   \n",
       "...                                           ...  ...   \n",
       "2565                                          0.0  ...   \n",
       "2566                                          0.2  ...   \n",
       "2567                                          0.0  ...   \n",
       "2568                                          0.0  ...   \n",
       "2569                                          0.0  ...   \n",
       "2570                                          0.0  ...   \n",
       "2571                                          1.4  ...   \n",
       "2572                                          0.0  ...   \n",
       "2573                                          0.0  ...   \n",
       "2574                                          0.0  ...   \n",
       "2575                                          0.0  ...   \n",
       "2576                                          0.0  ...   \n",
       "2577                                          0.0  ...   \n",
       "2578                                          0.0  ...   \n",
       "2579                                          0.0  ...   \n",
       "2580                                          0.0  ...   \n",
       "2581                                          0.0  ...   \n",
       "2582                                          0.0  ...   \n",
       "2583                                          0.0  ...   \n",
       "2584                                          0.0  ...   \n",
       "2585                                          0.1  ...   \n",
       "2586                                          0.1  ...   \n",
       "2587                                          0.2  ...   \n",
       "2588                                          0.0  ...   \n",
       "2589                                          0.2  ...   \n",
       "2590                                          0.0  ...   \n",
       "2591                                          0.0  ...   \n",
       "2592                                          0.0  ...   \n",
       "2593                                          0.0  ...   \n",
       "2594                                          0.0  ...   \n",
       "\n",
       "      Number_exempt_for_polio  Number_exempt_for_HepatitisB  \\\n",
       "0                         NaN                           NaN   \n",
       "1                         NaN                           NaN   \n",
       "2                         NaN                           NaN   \n",
       "3                         0.0                           0.0   \n",
       "4                         NaN                           NaN   \n",
       "5                         NaN                           NaN   \n",
       "6                         0.0                           0.0   \n",
       "7                         NaN                           NaN   \n",
       "8                         NaN                           NaN   \n",
       "9                         NaN                           NaN   \n",
       "10                        NaN                           NaN   \n",
       "11                        NaN                           NaN   \n",
       "12                        NaN                           NaN   \n",
       "13                        NaN                           NaN   \n",
       "14                        0.0                           0.0   \n",
       "15                        NaN                           NaN   \n",
       "16                        NaN                           NaN   \n",
       "17                        NaN                           NaN   \n",
       "18                        NaN                           NaN   \n",
       "19                        0.0                           0.0   \n",
       "20                        NaN                           NaN   \n",
       "21                        0.0                           0.0   \n",
       "22                        3.0                           3.0   \n",
       "23                        3.0                           5.0   \n",
       "24                        NaN                           NaN   \n",
       "25                        2.0                           2.0   \n",
       "26                       17.0                          15.0   \n",
       "27                       12.0                          11.0   \n",
       "28                        5.0                           8.0   \n",
       "29                        2.0                           3.0   \n",
       "...                       ...                           ...   \n",
       "2565                      2.0                           2.0   \n",
       "2566                     13.0                          13.0   \n",
       "2567                      2.0                           2.0   \n",
       "2568                     11.0                          10.0   \n",
       "2569                      3.0                           3.0   \n",
       "2570                      3.0                           3.0   \n",
       "2571                     44.0                          43.0   \n",
       "2572                      1.0                           2.0   \n",
       "2573                      9.0                           6.0   \n",
       "2574                     26.0                          29.0   \n",
       "2575                      2.0                           3.0   \n",
       "2576                      9.0                          22.0   \n",
       "2577                      6.0                           5.0   \n",
       "2578                      4.0                           5.0   \n",
       "2579                      0.0                           0.0   \n",
       "2580                     12.0                           9.0   \n",
       "2581                     22.0                          23.0   \n",
       "2582                      2.0                           2.0   \n",
       "2583                     18.0                          18.0   \n",
       "2584                      0.0                           0.0   \n",
       "2585                     29.0                          25.0   \n",
       "2586                     19.0                          20.0   \n",
       "2587                      8.0                           7.0   \n",
       "2588                     13.0                          12.0   \n",
       "2589                     22.0                          21.0   \n",
       "2590                      1.0                           6.0   \n",
       "2591                     20.0                          21.0   \n",
       "2592                      5.0                           3.0   \n",
       "2593                     20.0                          21.0   \n",
       "2594                      1.0                           1.0   \n",
       "\n",
       "      Number_exempt_for_varicella                    School_District  \\\n",
       "0                             NaN          CLARKSTON SCHOOL DISTRICT   \n",
       "1                             NaN             ODESSA SCHOOL DISTRICT   \n",
       "2                             NaN            POMEROY SCHOOL DISTRICT   \n",
       "3                             1.0            GRANGER SCHOOL DISTRICT   \n",
       "4                             NaN         BELLINGHAM SCHOOL DISTRICT   \n",
       "5                             NaN            EPHRATA SCHOOL DISTRICT   \n",
       "6                             4.0             ODESSA SCHOOL DISTRICT   \n",
       "7                             NaN             TACOMA SCHOOL DISTRICT   \n",
       "8                             NaN             TACOMA SCHOOL DISTRICT   \n",
       "9                             NaN             SEATTLE PUBLIC SCHOOLS   \n",
       "10                            NaN          KENNEWICK SCHOOL DISTRICT   \n",
       "11                            NaN              KELSO SCHOOL DISTRICT   \n",
       "12                            NaN          KENNEWICK SCHOOL DISTRICT   \n",
       "13                            NaN    LAKE WASHINGTON SCHOOL DISTRICT   \n",
       "14                            8.0     CENTRAL KITSAP SCHOOL DISTRICT   \n",
       "15                            NaN           RICHLAND SCHOOL DISTRICT   \n",
       "16                            NaN           HIGHLINE SCHOOL DISTRICT   \n",
       "17                            NaN            SPOKANE SCHOOL DISTRICT   \n",
       "18                            NaN            SPOKANE SCHOOL DISTRICT   \n",
       "19                            0.0             SEATTLE PUBLIC SCHOOLS   \n",
       "20                            NaN             MILL A SCHOOL DISTRICT   \n",
       "21                            0.0           MUKILTEO SCHOOL DISTRICT   \n",
       "22                            5.0             TACOMA SCHOOL DISTRICT   \n",
       "23                            7.0             EASTON SCHOOL DISTRICT   \n",
       "24                            NaN      BATTLE GROUND SCHOOL DISTRICT   \n",
       "25                            2.0             SUMNER SCHOOL DISTRICT   \n",
       "26                           16.0            PULLMAN SCHOOL DISTRICT   \n",
       "27                           17.0             BETHEL SCHOOL DISTRICT   \n",
       "28                            5.0           BELLEVUE SCHOOL DISTRICT   \n",
       "29                            2.0             TACOMA SCHOOL DISTRICT   \n",
       "...                           ...                                ...   \n",
       "2565                          2.0           ABERDEEN SCHOOL DISTRICT   \n",
       "2566                         14.0     CENTRAL VALLEY SCHOOL DISTRICT   \n",
       "2567                          4.0             ZILLAH SCHOOL DISTRICT   \n",
       "2568                         10.0       MOUNT VERNON SCHOOL DISTRICT   \n",
       "2569                          3.0            GRIFFIN SCHOOL DISTRICT   \n",
       "2570                          4.0             YAKIMA SCHOOL DISTRICT   \n",
       "2571                         49.0     CENTRAL VALLEY SCHOOL DISTRICT   \n",
       "2572                         11.0             SEATTLE PUBLIC SCHOOLS   \n",
       "2573                         14.0           PUYALLUP SCHOOL DISTRICT   \n",
       "2574                         34.0             CHENEY SCHOOL DISTRICT   \n",
       "2575                          1.0             SEATTLE PUBLIC SCHOOLS   \n",
       "2576                         18.0  BAINBRIDGE ISLAND SCHOOL DISTRICT   \n",
       "2577                          8.0     WISHKAH VALLEY SCHOOL DISTRICT   \n",
       "2578                          5.0             YAKIMA SCHOOL DISTRICT   \n",
       "2579                          0.0         OAK HARBOR SCHOOL DISTRICT   \n",
       "2580                         28.0           BELLEVUE SCHOOL DISTRICT   \n",
       "2581                         27.0            EDMONDS SCHOOL DISTRICT   \n",
       "2582                          2.0               KENT SCHOOL DISTRICT   \n",
       "2583                         18.0          MONTESANO SCHOOL DISTRICT   \n",
       "2584                          0.0           TUMWATER SCHOOL DISTRICT   \n",
       "2585                         42.0             TAHOMA SCHOOL DISTRICT   \n",
       "2586                         20.0        FEDERAL WAY SCHOOL DISTRICT   \n",
       "2587                          7.0             RENTON SCHOOL DISTRICT   \n",
       "2588                         13.0          KENNEWICK SCHOOL DISTRICT   \n",
       "2589                         30.0             SULTAN SCHOOL DISTRICT   \n",
       "2590                         27.0           HIGHLINE SCHOOL DISTRICT   \n",
       "2591                         35.0             CHENEY SCHOOL DISTRICT   \n",
       "2592                          9.0            SPOKANE SCHOOL DISTRICT   \n",
       "2593                         23.0       LAKE STEVENS SCHOOL DISTRICT   \n",
       "2594                          1.0              PASCO SCHOOL DISTRICT   \n",
       "\n",
       "            County                                             ESD  \\\n",
       "0           ASOTIN                EDUCATIONAL SERVICE DISTRICT 123   \n",
       "1          LINCOLN                EDUCATIONAL SERVICE DISTRICT 101   \n",
       "2         GARFIELD                EDUCATIONAL SERVICE DISTRICT 123   \n",
       "3           YAKIMA                EDUCATIONAL SERVICE DISTRICT 105   \n",
       "4          WHATCOM      NORTHWEST EDUCATIONAL SERVICE DISTRICT 189   \n",
       "5            GRANT  NORTH CENTRAL EDUCATIONAL SERVICE DISTRICT 171   \n",
       "6          LINCOLN                EDUCATIONAL SERVICE DISTRICT 101   \n",
       "7           PIERCE    PUGET SOUND EDUCATIONAL SERVICE DISTRICT 121   \n",
       "8           PIERCE    PUGET SOUND EDUCATIONAL SERVICE DISTRICT 121   \n",
       "9             KING    PUGET SOUND EDUCATIONAL SERVICE DISTRICT 121   \n",
       "10          BENTON                EDUCATIONAL SERVICE DISTRICT 123   \n",
       "11         COWLITZ                EDUCATIONAL SERVICE DISTRICT 112   \n",
       "12          BENTON                EDUCATIONAL SERVICE DISTRICT 123   \n",
       "13            KING    PUGET SOUND EDUCATIONAL SERVICE DISTRICT 121   \n",
       "14          KITSAP        OLYMPIC EDUCATIONAL SERVICE DISTRICT 114   \n",
       "15          BENTON                EDUCATIONAL SERVICE DISTRICT 123   \n",
       "16            KING    PUGET SOUND EDUCATIONAL SERVICE DISTRICT 121   \n",
       "17         SPOKANE                EDUCATIONAL SERVICE DISTRICT 101   \n",
       "18         SPOKANE                EDUCATIONAL SERVICE DISTRICT 101   \n",
       "19            KING    PUGET SOUND EDUCATIONAL SERVICE DISTRICT 121   \n",
       "20        SKAMANIA                EDUCATIONAL SERVICE DISTRICT 112   \n",
       "21       SNOHOMISH      NORTHWEST EDUCATIONAL SERVICE DISTRICT 189   \n",
       "22          PIERCE    PUGET SOUND EDUCATIONAL SERVICE DISTRICT 121   \n",
       "23        KITTITAS                EDUCATIONAL SERVICE DISTRICT 105   \n",
       "24           CLARK                EDUCATIONAL SERVICE DISTRICT 112   \n",
       "25          PIERCE    PUGET SOUND EDUCATIONAL SERVICE DISTRICT 121   \n",
       "26         WHITMAN                EDUCATIONAL SERVICE DISTRICT 101   \n",
       "27          PIERCE    PUGET SOUND EDUCATIONAL SERVICE DISTRICT 121   \n",
       "28            KING    PUGET SOUND EDUCATIONAL SERVICE DISTRICT 121   \n",
       "29          PIERCE    PUGET SOUND EDUCATIONAL SERVICE DISTRICT 121   \n",
       "...            ...                                             ...   \n",
       "2565  GRAYS HARBOR                EDUCATIONAL SERVICE DISTRICT 113   \n",
       "2566       SPOKANE                EDUCATIONAL SERVICE DISTRICT 101   \n",
       "2567        YAKIMA                EDUCATIONAL SERVICE DISTRICT 105   \n",
       "2568        SKAGIT      NORTHWEST EDUCATIONAL SERVICE DISTRICT 189   \n",
       "2569      THURSTON                EDUCATIONAL SERVICE DISTRICT 113   \n",
       "2570        YAKIMA                EDUCATIONAL SERVICE DISTRICT 105   \n",
       "2571       SPOKANE                EDUCATIONAL SERVICE DISTRICT 101   \n",
       "2572          KING    PUGET SOUND EDUCATIONAL SERVICE DISTRICT 121   \n",
       "2573        PIERCE    PUGET SOUND EDUCATIONAL SERVICE DISTRICT 121   \n",
       "2574       SPOKANE                EDUCATIONAL SERVICE DISTRICT 101   \n",
       "2575          KING    PUGET SOUND EDUCATIONAL SERVICE DISTRICT 121   \n",
       "2576        KITSAP    PUGET SOUND EDUCATIONAL SERVICE DISTRICT 121   \n",
       "2577  GRAYS HARBOR                EDUCATIONAL SERVICE DISTRICT 113   \n",
       "2578        YAKIMA                EDUCATIONAL SERVICE DISTRICT 105   \n",
       "2579        ISLAND      NORTHWEST EDUCATIONAL SERVICE DISTRICT 189   \n",
       "2580          KING    PUGET SOUND EDUCATIONAL SERVICE DISTRICT 121   \n",
       "2581     SNOHOMISH      NORTHWEST EDUCATIONAL SERVICE DISTRICT 189   \n",
       "2582          KING    PUGET SOUND EDUCATIONAL SERVICE DISTRICT 121   \n",
       "2583  GRAYS HARBOR                EDUCATIONAL SERVICE DISTRICT 113   \n",
       "2584      THURSTON                EDUCATIONAL SERVICE DISTRICT 113   \n",
       "2585          KING    PUGET SOUND EDUCATIONAL SERVICE DISTRICT 121   \n",
       "2586          KING    PUGET SOUND EDUCATIONAL SERVICE DISTRICT 121   \n",
       "2587          KING    PUGET SOUND EDUCATIONAL SERVICE DISTRICT 121   \n",
       "2588        BENTON                EDUCATIONAL SERVICE DISTRICT 123   \n",
       "2589     SNOHOMISH      NORTHWEST EDUCATIONAL SERVICE DISTRICT 189   \n",
       "2590          KING    PUGET SOUND EDUCATIONAL SERVICE DISTRICT 121   \n",
       "2591       SPOKANE                EDUCATIONAL SERVICE DISTRICT 101   \n",
       "2592       SPOKANE                EDUCATIONAL SERVICE DISTRICT 101   \n",
       "2593     SNOHOMISH      NORTHWEST EDUCATIONAL SERVICE DISTRICT 189   \n",
       "2594      FRANKLIN                EDUCATIONAL SERVICE DISTRICT 123   \n",
       "\n",
       "      Grade_Levels  Has_kindergarten  Has_6thGrade  \\\n",
       "0             K -6                 Y             Y   \n",
       "1             K-12                 Y             Y   \n",
       "2             7-12                 N             N   \n",
       "3              5-8                 N             Y   \n",
       "4              P-1                 Y             N   \n",
       "5             P-12                 Y             Y   \n",
       "6             PK-6                 Y             Y   \n",
       "7              P-6                 Y             Y   \n",
       "8               K+                 Y             N   \n",
       "9             PK-8                 N             N   \n",
       "10             6-8                 N             Y   \n",
       "11            PK-8                 Y             Y   \n",
       "12            9-12                 N             N   \n",
       "13            9-12                 N             N   \n",
       "14             P-1                 Y             N   \n",
       "15               K                 Y             N   \n",
       "16             P-6                 Y             Y   \n",
       "17               K                 Y             N   \n",
       "18             1-3                 N             N   \n",
       "19             6-8                 N             Y   \n",
       "20            K -8                 Y             Y   \n",
       "21             P-1                 Y             N   \n",
       "22             6-8                 N             Y   \n",
       "23           K -12                 Y             Y   \n",
       "24            9-12                 N             N   \n",
       "25            PK-6                 Y             Y   \n",
       "26            K -5                 Y             N   \n",
       "27            K -6                 Y             Y   \n",
       "28             P-8                 Y             Y   \n",
       "29             P-8                 Y             Y   \n",
       "...            ...               ...           ...   \n",
       "2565           P-8                 Y             Y   \n",
       "2566          PK-5                 Y             N   \n",
       "2567           4-6                 N             Y   \n",
       "2568          K -6                 Y             Y   \n",
       "2569          P-12                 Y             Y   \n",
       "2570           P-8                 Y             Y   \n",
       "2571          P-12                 Y             Y   \n",
       "2572          9-12                 N             N   \n",
       "2573          K -6                 Y             Y   \n",
       "2574          PK-5                 Y             N   \n",
       "2575          K -5                 Y             N   \n",
       "2576           7-8                 N             N   \n",
       "2577         K -12                 Y             Y   \n",
       "2578          P-12                 Y             Y   \n",
       "2579           1-8                 N             Y   \n",
       "2580          K -5                 Y             N   \n",
       "2581          K -6                 Y             Y   \n",
       "2582           P-3                 Y             N   \n",
       "2583           4-6                 N             Y   \n",
       "2584          4-12                 N             Y   \n",
       "2585           8-9                 N             N   \n",
       "2586          9-12                 N             N   \n",
       "2587          K -5                 Y             N   \n",
       "2588          K -5                 Y             N   \n",
       "2589          K -5                 Y             N   \n",
       "2590           7-8                 N             N   \n",
       "2591           6-8                 N             Y   \n",
       "2592           P-8                 Y             Y   \n",
       "2593          PK-5                 Y             N   \n",
       "2594           P-8                 Y             Y   \n",
       "\n",
       "                                             Location 1  \n",
       "0     1917 4TH AVE\\nCLARKSTON\\n(46.392665, -117.077887)  \n",
       "1                          2194 N SCHOONOVER RD\\nODESSA  \n",
       "2     1090 PATAHA ST\\nPOMEROY\\n(46.472166, -117.596196)  \n",
       "3        701 E AVENUE\\nGRANGER\\n(46.347133, -120.18824)  \n",
       "4     3242 FIRWOOD AVE\\nBELLINGHAM\\n(48.775804, -122...  \n",
       "5     911 E DIVISION\\nEPHRATA\\n(47.318868, -119.538482)  \n",
       "6                                  P.O. BOX 248\\nODESSA  \n",
       "7      1740 S 84TH ST\\nTACOMA\\n(47.181055, -122.459845)  \n",
       "8     1801 NE 53RD ST\\nTACOMA\\n(47.304686, -122.423352)  \n",
       "9     2332 N 116TH ST\\nSEATTLE\\n(47.713096, -122.329...  \n",
       "10    1011 WEST 10TH AVENUE\\nKENNEWICK\\n(46.198453, ...  \n",
       "11        96 GARDEN ST\\nKELSO\\n(46.190843, -122.917702)  \n",
       "12    500 SOUTH DAYTON STREET\\nKENNEWICK\\n(46.204227...  \n",
       "13    5320 108TH AVE NE\\nKIRKLAND\\n(47.656604, -122....  \n",
       "14    7333 TRACYTON BLVD\\nBREMERTON\\n(47.629949, -12...  \n",
       "15    304 THAYER DR\\nRICHLAND\\n(46.267544, -119.290123)  \n",
       "16    220 SW 160TH ST\\nBURIEN\\n(47.459697, -122.336857)  \n",
       "17    1909 N.WRIGHT DR.\\nSPOKANE\\n(47.677307, -117.4...  \n",
       "18    200 N BERNARD ST\\nSPOKANE\\n(47.659226, -117.41...  \n",
       "19    100 W HARRISON (MAIL: 3203 NW 64TH ST #1 SEATT...  \n",
       "20      1142 JESSUP ROAD\\nCOOK\\n(45.75793, -121.648767)  \n",
       "21    13000 BEVERLY PARK RD\\nMUKILTEO\\n(47.880305, -...  \n",
       "22    1801 E. 56TH STREET\\nTACOMA\\n(47.206249, -122....  \n",
       "23                                    P O BOX 8\\nEASTON  \n",
       "24    11100 NE 189TH ST\\nBATTLE GROUND\\n(45.758784, ...  \n",
       "25    8201 LOCUST AVE E\\nBONNEY LAKE\\n(47.183028, -1...  \n",
       "26    1150 NW BRYANT\\nPULLMAN\\n(46.739415, -117.181317)  \n",
       "27    22109 108TH AVE E\\nGRAHAM\\n(47.054829, -122.28...  \n",
       "28    9450 NE 14TH ST\\nCLYDE HILL\\n(47.622943, -122....  \n",
       "29     7112 S 12TH ST\\nTACOMA\\n(47.249939, -122.532949)  \n",
       "...                                                 ...  \n",
       "2565  518 NORTH H ST\\nABERDEEN\\n(46.979684, -123.82015)  \n",
       "2566  12021 E. 24TH AVE.\\nSPOKANE\\n(47.635131, -117....  \n",
       "2567   303 SECOND AVE\\nZILLAH\\n(46.403568, -120.263868)  \n",
       "2568  1020 MCLEAN RD\\nMOUNT VERNON\\n(48.420899, -122...  \n",
       "2569  1601 NORTH STREET\\nOLYMPIA\\n(47.016537, -122.8...  \n",
       "2570       202 N 4TH ST\\nYAKIMA\\n(46.605813, -120.5028)  \n",
       "2571  10212 E 9TH AVE\\nSPOKANE\\n(47.648752, -117.267...  \n",
       "2572  8601 RAINIER AVE S\\nSEATTLE\\n(47.524495, -122....  \n",
       "2573  6312 WALLER RD E\\nTACOMA\\n(47.199758, -122.389...  \n",
       "2574  5504 W HALLETT RD\\nSPOKANE\\n(47.594538, -117.4...  \n",
       "2575  8311 BEACON AV S\\nSEATTLE\\n(47.529501, -122.28...  \n",
       "2576  9100 NE SPORTSMAN CLUB RD\\nBAINBRIDGE ISLAND\\n...  \n",
       "2577  4640 WISHKAH RD.\\nABERDEEN\\n(47.118226, -123.7...  \n",
       "2578  3902 SUMMITVIEW AVE\\nYAKIMA\\n(46.599901, -120....  \n",
       "2579  31830 SR 20\\nOAK HARBOR\\n(48.294805, -122.656168)  \n",
       "2580  12619 SE 20TH PLACE\\nBELLEVUE\\n(47.592758, -12...  \n",
       "2581  9601 220TH ST SW\\nEDMONDS\\n(47.799603, -122.36...  \n",
       "2582  19455 136TH PLACE SE\\nRENTON\\n(47.427084, -122...  \n",
       "2583  519 WEST SIMPSON AVENUE\\nMONTESANO\\n(46.986138...  \n",
       "2584  7741 LITTLEROCK RD SW\\nTUMWATER\\n(46.97519, -1...  \n",
       "2585  25600 SE SUMMIT LANDSBURG ROAD\\nRAVENSDALE\\n(4...  \n",
       "2586  35999 16TH AV S\\nFEDERAL WAY\\n(47.278682, -122...  \n",
       "2587  2300 TALBOT RD S\\nRENTON\\n(47.458843, -122.212...  \n",
       "2588  1701 N YOUNG ST\\nKENNEWICK\\n(46.228127, -119.2...  \n",
       "2589      501 DATE ST\\nSULTAN\\n(47.865461, -121.815696)  \n",
       "2590  16222 SYLVESTER ROAD SW\\nBURIEN\\n(47.457847, -...  \n",
       "2591  6120 SOUTH ABBOTT ROAD\\nSPOKANE\\n(47.59625, -1...  \n",
       "2592  1306 W MONTGOMERY AVE\\nSPOKANE\\n(47.67857, -11...  \n",
       "2593  3411 99TH AVE NE\\nLAKE STEVENS\\n(48.02726, -12...  \n",
       "2594   1016 N 14TH AVE\\nPASCO\\n(46.236277, -119.107275)  \n",
       "\n",
       "[2595 rows x 35 columns]>"
      ]
     },
     "execution_count": 308,
     "metadata": {},
     "output_type": "execute_result"
    }
   ],
   "source": [
    "#First we read in our file and check out what the data looks like\n",
    "\n",
    "data = pd.read_csv('school immunizations.csv', header = 0 )\n",
    "\n",
    "data.head"
   ]
  },
  {
   "cell_type": "code",
   "execution_count": 309,
   "metadata": {},
   "outputs": [
    {
     "data": {
      "text/plain": [
       "<bound method NDFrame.head of                                   School_Name School_year Reported  \\\n",
       "3                       GRANGER MIDDLE SCHOOL     2016-17        Y   \n",
       "6                        P C JANTZ ELEMENTARY     2016-17        Y   \n",
       "14                 DISCOVERY DEPOT MONTESSORI     2016-17        Y   \n",
       "19                         SOLVE FOR X SCHOOL     2016-17        Y   \n",
       "21                           MUKILTEO ACADEMY     2016-17        Y   \n",
       "22                  FIRST CREEK MIDDLE SCHOOL     2016-17        Y   \n",
       "23                              EASTON SCHOOL     2016-17        Y   \n",
       "25              BONNEY LAKE CHRISTIAN ACADEMY     2016-17        Y   \n",
       "26           JEFFERSON ELEMENTARY (SOUTHSIDE)     2016-17        Y   \n",
       "27                   NELSON ELEMENTARY SCHOOL     2016-17        Y   \n",
       "28                        SACRED HEART SCHOOL     2016-17        Y   \n",
       "29                ST. CHARLES BORROMEO SCHOOL     2016-17        Y   \n",
       "30                       SUNNYSIDE ELEMENTARY     2016-17        Y   \n",
       "31                              VALLEY SCHOOL     2016-17        Y   \n",
       "32                         WAPATO HIGH SCHOOL     2016-17        Y   \n",
       "33                         QUINCY JUNIOR HIGH     2016-17        Y   \n",
       "35                      LONGFELLOW ELEMENTARY     2016-17        Y   \n",
       "36                      COTTONWOOD ELEMENTARY     2016-17        Y   \n",
       "37                     MERIDIAN MIDDLE SCHOOL     2016-17        Y   \n",
       "38                          DAVIS HIGH SCHOOL     2016-17        Y   \n",
       "39                             FUTURES SCHOOL     2016-17        Y   \n",
       "40                      KENTRIDGE HIGH SCHOOL     2016-17        Y   \n",
       "41           KIONA-BENTON CITY PRIMARY SCHOOL     2016-17        Y   \n",
       "42                    MOUNTAINVIEW ELEMENTARY     2016-17        Y   \n",
       "43                     ST. THOMAS MORE SCHOOL     2016-17        Y   \n",
       "44                         SNOWDON ELEMENTARY     2016-17        Y   \n",
       "45                       WILSON MIDDLE SCHOOL     2016-17        Y   \n",
       "46                  LINCOLN ELEMENTARY SCHOOL     2016-17        Y   \n",
       "47            DEARBORN PARK ELEMENTARY SCHOOL     2016-17        Y   \n",
       "48                         ODLE MIDDLE SCHOOL     2016-17        Y   \n",
       "...                                       ...         ...      ...   \n",
       "2565                          ST. MARY SCHOOL     2016-17        Y   \n",
       "2566                   SOUTH PINES ELEMENTARY     2016-17        Y   \n",
       "2567               ZILLAH INTERMEDIATE SCHOOL     2016-17        Y   \n",
       "2568             WASHINGTON ELEMENTARY SCHOOL     2016-17        Y   \n",
       "2569                     SUNRISE BEACH SCHOOL     2016-17        Y   \n",
       "2570              ST. JOSEPH MARQUETTE SCHOOL     2016-17        Y   \n",
       "2571  VALLEY CHRISTIAN SCHOOL--CENTRAL VALLEY     2016-17        Y   \n",
       "2572                   SOUTH LAKE HIGH SCHOOL     2016-17        Y   \n",
       "2573                   WALLER ROAD ELEMENTARY     2016-17        Y   \n",
       "2574                       WINDSOR ELEMENTARY     2016-17        Y   \n",
       "2575             VAN ASSELT ELEMENTARY SCHOOL     2016-17        Y   \n",
       "2576                   WOODWARD MIDDLE SCHOOL     2016-17        Y   \n",
       "2577    WISHKAH VALLEY ELEMENTARY/HIGH SCHOOL     2016-17        Y   \n",
       "2578               WESTPARK CHRISTIAN ACADEMY     2016-17        Y   \n",
       "2579      WHIDBEY CHRISTIAN ELEMENTARY SCHOOL     2016-17        Y   \n",
       "2580                     WOODRIDGE ELEMENTARY     2016-17        Y   \n",
       "2581                      WESTGATE ELEMENTARY     2016-17        Y   \n",
       "2582         THE WELL-TRAINED MIND MONTESSORI     2016-17        Y   \n",
       "2583                SIMPSON AVENUE ELEMENTARY     2016-17        Y   \n",
       "2584                            TUMWATER WEST     2016-17        Y   \n",
       "2585                           TAHOMA JR HIGH     2016-17        Y   \n",
       "2586                  TODD BEAMER HIGH SCHOOL     2016-17        Y   \n",
       "2587            TALBOT HILL ELEMENTARY SCHOOL     2016-17        Y   \n",
       "2588                  VISTA ELEMENTARY SCHOOL     2016-17        Y   \n",
       "2589                 SULTAN ELEMENTARY SCHOOL     2016-17        Y   \n",
       "2590                  SYLVESTER MIDDLE SCHOOL     2016-17        Y   \n",
       "2591                   WESTWOOD MIDDLE SCHOOL     2016-17        Y   \n",
       "2592                  TRINITY CATHOLIC SCHOOL     2016-17        Y   \n",
       "2593             SUNNYCREST ELEMENTARY SCHOOL     2016-17        Y   \n",
       "2594                       ST. PATRICK SCHOOL     2016-17        Y   \n",
       "\n",
       "      K_12_enrollment  Percent_complete_for_all_immunizations  \\\n",
       "3               480.0                                    99.2   \n",
       "6               125.0                                    96.0   \n",
       "14               20.0                                    90.0   \n",
       "19                7.0                                   100.0   \n",
       "21               23.0                                   100.0   \n",
       "22              790.0                                    96.3   \n",
       "23              114.0                                    90.4   \n",
       "25               16.0                                    87.5   \n",
       "26              481.0                                    89.8   \n",
       "27              544.0                                    95.8   \n",
       "28              370.0                                    97.8   \n",
       "29              519.0                                    99.4   \n",
       "30              526.0                                    94.3   \n",
       "31              208.0                                    73.6   \n",
       "32              836.0                                    65.9   \n",
       "33              413.0                                    95.9   \n",
       "35              549.0                                    94.2   \n",
       "36              710.0                                    96.5   \n",
       "37              602.0                                    94.9   \n",
       "38             2271.0                                    95.6   \n",
       "39               47.0                                    70.2   \n",
       "40             2257.0                                    94.2   \n",
       "41              320.0                                    61.6   \n",
       "42              179.0                                    97.8   \n",
       "43              233.0                                    53.6   \n",
       "44              467.0                                    90.1   \n",
       "45              850.0                                    97.2   \n",
       "46              370.0                                    93.8   \n",
       "47              350.0                                    91.7   \n",
       "48              969.0                                    76.2   \n",
       "...               ...                                     ...   \n",
       "2565            125.0                                    96.8   \n",
       "2566            421.0                                    92.2   \n",
       "2567            290.0                                    93.4   \n",
       "2568            413.0                                    94.9   \n",
       "2569             35.0                                    91.4   \n",
       "2570            331.0                                    91.8   \n",
       "2571            280.0                                    81.8   \n",
       "2572             77.0                                    74.0   \n",
       "2573            343.0                                    95.3   \n",
       "2574            502.0                                    77.1   \n",
       "2575            462.0                                    88.1   \n",
       "2576            603.0                                    94.4   \n",
       "2577            161.0                                    82.6   \n",
       "2578             66.0                                    84.8   \n",
       "2579              8.0                                   100.0   \n",
       "2580            661.0                                    89.3   \n",
       "2581            495.0                                    93.3   \n",
       "2582             14.0                                    78.6   \n",
       "2583            413.0                                    79.4   \n",
       "2584             20.0                                    15.0   \n",
       "2585           1342.0                                    93.1   \n",
       "2586           1701.0                                    79.1   \n",
       "2587            522.0                                    97.3   \n",
       "2588            576.0                                    96.0   \n",
       "2589            547.0                                    84.6   \n",
       "2590            703.0                                    88.3   \n",
       "2591            558.0                                    80.3   \n",
       "2592            153.0                                    92.2   \n",
       "2593            761.0                                    95.1   \n",
       "2594            183.0                                    59.0   \n",
       "\n",
       "      Percent_with_any_exemption  Percent_with_medical_exemption  \\\n",
       "3                            0.2                             0.0   \n",
       "6                            3.2                             0.8   \n",
       "14                           0.0                             0.0   \n",
       "19                           0.0                             0.0   \n",
       "21                           0.0                             0.0   \n",
       "22                           1.1                             0.1   \n",
       "23                           0.0                             0.0   \n",
       "25                          12.5                            12.5   \n",
       "26                           4.0                             0.2   \n",
       "27                           3.7                             1.3   \n",
       "28                           2.2                             0.0   \n",
       "29                           0.6                             0.2   \n",
       "30                           4.4                             1.7   \n",
       "31                          25.0                             2.9   \n",
       "32                           0.0                             0.0   \n",
       "33                           0.5                             0.2   \n",
       "35                           4.2                             1.3   \n",
       "36                           3.5                             1.4   \n",
       "37                           2.2                             0.7   \n",
       "38                           2.1                             1.1   \n",
       "39                          12.8                             2.1   \n",
       "40                           2.0                             0.4   \n",
       "41                           0.6                             0.0   \n",
       "42                           1.1                             1.1   \n",
       "43                          12.0                             0.9   \n",
       "44                           7.5                             1.9   \n",
       "45                           1.8                             0.5   \n",
       "46                           5.4                             0.5   \n",
       "47                           1.4                             0.9   \n",
       "48                           6.0                             2.0   \n",
       "...                          ...                             ...   \n",
       "2565                         1.6                             0.0   \n",
       "2566                         4.0                             1.0   \n",
       "2567                         1.4                             0.3   \n",
       "2568                         2.9                             1.2   \n",
       "2569                         8.6                             5.7   \n",
       "2570                         1.2                             0.0   \n",
       "2571                        18.2                             0.4   \n",
       "2572                        18.2                            14.3   \n",
       "2573                         4.1                             1.5   \n",
       "2574                         7.4                             1.0   \n",
       "2575                         1.1                             0.2   \n",
       "2576                         5.6                             0.8   \n",
       "2577                         5.6                             0.6   \n",
       "2578                         7.6                             0.0   \n",
       "2579                         0.0                             0.0   \n",
       "2580                         4.5                             1.7   \n",
       "2581                         5.5                             1.0   \n",
       "2582                        14.3                             0.0   \n",
       "2583                         7.0                             2.9   \n",
       "2584                         0.0                             0.0   \n",
       "2585                         4.1                             0.7   \n",
       "2586                         2.5                             1.0   \n",
       "2587                         1.9                             0.8   \n",
       "2588                         2.6                             0.7   \n",
       "2589                         5.9                             1.3   \n",
       "2590                         6.4                             4.3   \n",
       "2591                         8.1                             1.3   \n",
       "2592                         7.8                             0.7   \n",
       "2593                         3.7                             0.7   \n",
       "2594                         0.5                             0.5   \n",
       "\n",
       "      Percent_with_personal_exemption  Percent_with_religious_exemption  \\\n",
       "3                                 0.0                               0.2   \n",
       "6                                 2.4                               0.0   \n",
       "14                                0.0                               0.0   \n",
       "19                                0.0                               0.0   \n",
       "21                                0.0                               0.0   \n",
       "22                                0.5                               0.5   \n",
       "23                                0.0                               0.0   \n",
       "25                                0.0                               0.0   \n",
       "26                                3.7                               0.0   \n",
       "27                                2.2                               0.4   \n",
       "28                                2.2                               0.0   \n",
       "29                                0.4                               0.0   \n",
       "30                                1.7                               1.0   \n",
       "31                               18.8                               3.8   \n",
       "32                                0.0                               0.0   \n",
       "33                                0.2                               0.0   \n",
       "35                                2.6                               0.4   \n",
       "36                                1.8                               0.3   \n",
       "37                                1.0                               0.7   \n",
       "38                                0.9                               0.1   \n",
       "39                                6.4                               4.3   \n",
       "40                                1.5                               0.0   \n",
       "41                                0.6                               0.0   \n",
       "42                                0.0                               0.0   \n",
       "43                               10.7                               0.4   \n",
       "44                                5.4                               0.2   \n",
       "45                                1.3                               0.0   \n",
       "46                                4.3                               0.5   \n",
       "47                                1.4                               0.0   \n",
       "48                                4.1                               0.1   \n",
       "...                               ...                               ...   \n",
       "2565                              1.6                               0.0   \n",
       "2566                              2.9                               0.0   \n",
       "2567                              0.7                               0.3   \n",
       "2568                              1.7                               0.0   \n",
       "2569                              0.0                               2.9   \n",
       "2570                              1.2                               0.0   \n",
       "2571                             14.3                               2.1   \n",
       "2572                              2.6                               1.3   \n",
       "2573                              2.6                               0.0   \n",
       "2574                              6.2                               0.2   \n",
       "2575                              0.9                               0.0   \n",
       "2576                              4.6                               0.2   \n",
       "2577                              5.6                               0.0   \n",
       "2578                              7.6                               0.0   \n",
       "2579                              0.0                               0.0   \n",
       "2580                              3.0                               0.3   \n",
       "2581                              4.2                               0.2   \n",
       "2582                             14.3                               0.0   \n",
       "2583                              3.1                               1.0   \n",
       "2584                              0.0                               0.0   \n",
       "2585                              3.4                               0.1   \n",
       "2586                              1.4                               0.1   \n",
       "2587                              1.0                               0.0   \n",
       "2588                              1.6                               0.3   \n",
       "2589                              3.5                               0.9   \n",
       "2590                              2.1                               0.0   \n",
       "2591                              6.6                               0.2   \n",
       "2592                              7.2                               0.0   \n",
       "2593                              3.0                               0.0   \n",
       "2594                              0.0                               0.0   \n",
       "\n",
       "      Percent_with_religious_membership_exemption  ...  \\\n",
       "3                                             0.0  ...   \n",
       "6                                             0.0  ...   \n",
       "14                                            0.0  ...   \n",
       "19                                            0.0  ...   \n",
       "21                                            0.0  ...   \n",
       "22                                            0.0  ...   \n",
       "23                                            0.0  ...   \n",
       "25                                            0.0  ...   \n",
       "26                                            0.0  ...   \n",
       "27                                            0.0  ...   \n",
       "28                                            0.0  ...   \n",
       "29                                            0.0  ...   \n",
       "30                                            0.0  ...   \n",
       "31                                            0.0  ...   \n",
       "32                                            0.0  ...   \n",
       "33                                            0.0  ...   \n",
       "35                                            0.2  ...   \n",
       "36                                            0.0  ...   \n",
       "37                                            0.0  ...   \n",
       "38                                            0.0  ...   \n",
       "39                                            0.0  ...   \n",
       "40                                            0.0  ...   \n",
       "41                                            0.0  ...   \n",
       "42                                            0.0  ...   \n",
       "43                                            0.0  ...   \n",
       "44                                            0.0  ...   \n",
       "45                                            0.0  ...   \n",
       "46                                            0.3  ...   \n",
       "47                                            0.0  ...   \n",
       "48                                            0.0  ...   \n",
       "...                                           ...  ...   \n",
       "2565                                          0.0  ...   \n",
       "2566                                          0.2  ...   \n",
       "2567                                          0.0  ...   \n",
       "2568                                          0.0  ...   \n",
       "2569                                          0.0  ...   \n",
       "2570                                          0.0  ...   \n",
       "2571                                          1.4  ...   \n",
       "2572                                          0.0  ...   \n",
       "2573                                          0.0  ...   \n",
       "2574                                          0.0  ...   \n",
       "2575                                          0.0  ...   \n",
       "2576                                          0.0  ...   \n",
       "2577                                          0.0  ...   \n",
       "2578                                          0.0  ...   \n",
       "2579                                          0.0  ...   \n",
       "2580                                          0.0  ...   \n",
       "2581                                          0.0  ...   \n",
       "2582                                          0.0  ...   \n",
       "2583                                          0.0  ...   \n",
       "2584                                          0.0  ...   \n",
       "2585                                          0.1  ...   \n",
       "2586                                          0.1  ...   \n",
       "2587                                          0.2  ...   \n",
       "2588                                          0.0  ...   \n",
       "2589                                          0.2  ...   \n",
       "2590                                          0.0  ...   \n",
       "2591                                          0.0  ...   \n",
       "2592                                          0.0  ...   \n",
       "2593                                          0.0  ...   \n",
       "2594                                          0.0  ...   \n",
       "\n",
       "      Number_exempt_for_polio  Number_exempt_for_HepatitisB  \\\n",
       "3                         0.0                           0.0   \n",
       "6                         0.0                           0.0   \n",
       "14                        0.0                           0.0   \n",
       "19                        0.0                           0.0   \n",
       "21                        0.0                           0.0   \n",
       "22                        3.0                           3.0   \n",
       "23                        3.0                           5.0   \n",
       "25                        2.0                           2.0   \n",
       "26                       17.0                          15.0   \n",
       "27                       12.0                          11.0   \n",
       "28                        5.0                           8.0   \n",
       "29                        2.0                           3.0   \n",
       "30                       18.0                          15.0   \n",
       "31                       28.0                          26.0   \n",
       "32                        0.0                           0.0   \n",
       "33                        1.0                           1.0   \n",
       "35                       12.0                          13.0   \n",
       "36                       14.0                          19.0   \n",
       "37                        9.0                           6.0   \n",
       "38                       14.0                          13.0   \n",
       "39                        2.0                           2.0   \n",
       "40                       20.0                          16.0   \n",
       "41                        1.0                           1.0   \n",
       "42                        1.0                           2.0   \n",
       "43                       19.0                          20.0   \n",
       "44                       25.0                          23.0   \n",
       "45                        5.0                           7.0   \n",
       "46                       12.0                          13.0   \n",
       "47                        3.0                           3.0   \n",
       "48                       16.0                          16.0   \n",
       "...                       ...                           ...   \n",
       "2565                      2.0                           2.0   \n",
       "2566                     13.0                          13.0   \n",
       "2567                      2.0                           2.0   \n",
       "2568                     11.0                          10.0   \n",
       "2569                      3.0                           3.0   \n",
       "2570                      3.0                           3.0   \n",
       "2571                     44.0                          43.0   \n",
       "2572                      1.0                           2.0   \n",
       "2573                      9.0                           6.0   \n",
       "2574                     26.0                          29.0   \n",
       "2575                      2.0                           3.0   \n",
       "2576                      9.0                          22.0   \n",
       "2577                      6.0                           5.0   \n",
       "2578                      4.0                           5.0   \n",
       "2579                      0.0                           0.0   \n",
       "2580                     12.0                           9.0   \n",
       "2581                     22.0                          23.0   \n",
       "2582                      2.0                           2.0   \n",
       "2583                     18.0                          18.0   \n",
       "2584                      0.0                           0.0   \n",
       "2585                     29.0                          25.0   \n",
       "2586                     19.0                          20.0   \n",
       "2587                      8.0                           7.0   \n",
       "2588                     13.0                          12.0   \n",
       "2589                     22.0                          21.0   \n",
       "2590                      1.0                           6.0   \n",
       "2591                     20.0                          21.0   \n",
       "2592                      5.0                           3.0   \n",
       "2593                     20.0                          21.0   \n",
       "2594                      1.0                           1.0   \n",
       "\n",
       "      Number_exempt_for_varicella                       School_District  \\\n",
       "3                             1.0               GRANGER SCHOOL DISTRICT   \n",
       "6                             4.0                ODESSA SCHOOL DISTRICT   \n",
       "14                            8.0        CENTRAL KITSAP SCHOOL DISTRICT   \n",
       "19                            0.0                SEATTLE PUBLIC SCHOOLS   \n",
       "21                            0.0              MUKILTEO SCHOOL DISTRICT   \n",
       "22                            5.0                TACOMA SCHOOL DISTRICT   \n",
       "23                            7.0                EASTON SCHOOL DISTRICT   \n",
       "25                            2.0                SUMNER SCHOOL DISTRICT   \n",
       "26                           16.0               PULLMAN SCHOOL DISTRICT   \n",
       "27                           17.0                BETHEL SCHOOL DISTRICT   \n",
       "28                            5.0              BELLEVUE SCHOOL DISTRICT   \n",
       "29                            2.0                TACOMA SCHOOL DISTRICT   \n",
       "30                           21.0            MARYSVILLE SCHOOL DISTRICT   \n",
       "31                           41.0                VALLEY SCHOOL DISTRICT   \n",
       "32                            0.0                WAPATO SCHOOL DISTRICT   \n",
       "33                            2.0                QUINCY SCHOOL DISTRICT   \n",
       "35                           19.0               SPOKANE SCHOOL DISTRICT   \n",
       "36                           22.0             KENNEWICK SCHOOL DISTRICT   \n",
       "37                            8.0                  KENT SCHOOL DISTRICT   \n",
       "38                           33.0                YAKIMA SCHOOL DISTRICT   \n",
       "39                            5.0       LAKE WASHINGTON SCHOOL DISTRICT   \n",
       "40                           21.0                  KENT SCHOOL DISTRICT   \n",
       "41                            1.0     KIONA-BENTON CITY SCHOOL DISTRICT   \n",
       "42                            0.0  WEST VALLEY SCHOOL DISTRICT (YAKIMA)   \n",
       "43                           20.0                  MEAD SCHOOL DISTRICT   \n",
       "44                           33.0                CHENEY SCHOOL DISTRICT   \n",
       "45                            9.0                YAKIMA SCHOOL DISTRICT   \n",
       "46                           17.0          MOUNT VERNON SCHOOL DISTRICT   \n",
       "47                            6.0                SEATTLE PUBLIC SCHOOLS   \n",
       "48                           43.0              BELLEVUE SCHOOL DISTRICT   \n",
       "...                           ...                                   ...   \n",
       "2565                          2.0              ABERDEEN SCHOOL DISTRICT   \n",
       "2566                         14.0        CENTRAL VALLEY SCHOOL DISTRICT   \n",
       "2567                          4.0                ZILLAH SCHOOL DISTRICT   \n",
       "2568                         10.0          MOUNT VERNON SCHOOL DISTRICT   \n",
       "2569                          3.0               GRIFFIN SCHOOL DISTRICT   \n",
       "2570                          4.0                YAKIMA SCHOOL DISTRICT   \n",
       "2571                         49.0        CENTRAL VALLEY SCHOOL DISTRICT   \n",
       "2572                         11.0                SEATTLE PUBLIC SCHOOLS   \n",
       "2573                         14.0              PUYALLUP SCHOOL DISTRICT   \n",
       "2574                         34.0                CHENEY SCHOOL DISTRICT   \n",
       "2575                          1.0                SEATTLE PUBLIC SCHOOLS   \n",
       "2576                         18.0     BAINBRIDGE ISLAND SCHOOL DISTRICT   \n",
       "2577                          8.0        WISHKAH VALLEY SCHOOL DISTRICT   \n",
       "2578                          5.0                YAKIMA SCHOOL DISTRICT   \n",
       "2579                          0.0            OAK HARBOR SCHOOL DISTRICT   \n",
       "2580                         28.0              BELLEVUE SCHOOL DISTRICT   \n",
       "2581                         27.0               EDMONDS SCHOOL DISTRICT   \n",
       "2582                          2.0                  KENT SCHOOL DISTRICT   \n",
       "2583                         18.0             MONTESANO SCHOOL DISTRICT   \n",
       "2584                          0.0              TUMWATER SCHOOL DISTRICT   \n",
       "2585                         42.0                TAHOMA SCHOOL DISTRICT   \n",
       "2586                         20.0           FEDERAL WAY SCHOOL DISTRICT   \n",
       "2587                          7.0                RENTON SCHOOL DISTRICT   \n",
       "2588                         13.0             KENNEWICK SCHOOL DISTRICT   \n",
       "2589                         30.0                SULTAN SCHOOL DISTRICT   \n",
       "2590                         27.0              HIGHLINE SCHOOL DISTRICT   \n",
       "2591                         35.0                CHENEY SCHOOL DISTRICT   \n",
       "2592                          9.0               SPOKANE SCHOOL DISTRICT   \n",
       "2593                         23.0          LAKE STEVENS SCHOOL DISTRICT   \n",
       "2594                          1.0                 PASCO SCHOOL DISTRICT   \n",
       "\n",
       "            County                                             ESD  \\\n",
       "3           YAKIMA                EDUCATIONAL SERVICE DISTRICT 105   \n",
       "6          LINCOLN                EDUCATIONAL SERVICE DISTRICT 101   \n",
       "14          KITSAP        OLYMPIC EDUCATIONAL SERVICE DISTRICT 114   \n",
       "19            KING    PUGET SOUND EDUCATIONAL SERVICE DISTRICT 121   \n",
       "21       SNOHOMISH      NORTHWEST EDUCATIONAL SERVICE DISTRICT 189   \n",
       "22          PIERCE    PUGET SOUND EDUCATIONAL SERVICE DISTRICT 121   \n",
       "23        KITTITAS                EDUCATIONAL SERVICE DISTRICT 105   \n",
       "25          PIERCE    PUGET SOUND EDUCATIONAL SERVICE DISTRICT 121   \n",
       "26         WHITMAN                EDUCATIONAL SERVICE DISTRICT 101   \n",
       "27          PIERCE    PUGET SOUND EDUCATIONAL SERVICE DISTRICT 121   \n",
       "28            KING    PUGET SOUND EDUCATIONAL SERVICE DISTRICT 121   \n",
       "29          PIERCE    PUGET SOUND EDUCATIONAL SERVICE DISTRICT 121   \n",
       "30       SNOHOMISH      NORTHWEST EDUCATIONAL SERVICE DISTRICT 189   \n",
       "31         STEVENS                EDUCATIONAL SERVICE DISTRICT 101   \n",
       "32          YAKIMA                EDUCATIONAL SERVICE DISTRICT 105   \n",
       "33           GRANT  NORTH CENTRAL EDUCATIONAL SERVICE DISTRICT 171   \n",
       "35         SPOKANE                EDUCATIONAL SERVICE DISTRICT 101   \n",
       "36          BENTON                EDUCATIONAL SERVICE DISTRICT 123   \n",
       "37            KING    PUGET SOUND EDUCATIONAL SERVICE DISTRICT 121   \n",
       "38          YAKIMA                EDUCATIONAL SERVICE DISTRICT 105   \n",
       "39            KING    PUGET SOUND EDUCATIONAL SERVICE DISTRICT 121   \n",
       "40            KING    PUGET SOUND EDUCATIONAL SERVICE DISTRICT 121   \n",
       "41          BENTON                EDUCATIONAL SERVICE DISTRICT 123   \n",
       "42          YAKIMA                EDUCATIONAL SERVICE DISTRICT 105   \n",
       "43         SPOKANE                EDUCATIONAL SERVICE DISTRICT 101   \n",
       "44         SPOKANE                EDUCATIONAL SERVICE DISTRICT 101   \n",
       "45          YAKIMA                EDUCATIONAL SERVICE DISTRICT 105   \n",
       "46          SKAGIT      NORTHWEST EDUCATIONAL SERVICE DISTRICT 189   \n",
       "47            KING    PUGET SOUND EDUCATIONAL SERVICE DISTRICT 121   \n",
       "48            KING    PUGET SOUND EDUCATIONAL SERVICE DISTRICT 121   \n",
       "...            ...                                             ...   \n",
       "2565  GRAYS HARBOR                EDUCATIONAL SERVICE DISTRICT 113   \n",
       "2566       SPOKANE                EDUCATIONAL SERVICE DISTRICT 101   \n",
       "2567        YAKIMA                EDUCATIONAL SERVICE DISTRICT 105   \n",
       "2568        SKAGIT      NORTHWEST EDUCATIONAL SERVICE DISTRICT 189   \n",
       "2569      THURSTON                EDUCATIONAL SERVICE DISTRICT 113   \n",
       "2570        YAKIMA                EDUCATIONAL SERVICE DISTRICT 105   \n",
       "2571       SPOKANE                EDUCATIONAL SERVICE DISTRICT 101   \n",
       "2572          KING    PUGET SOUND EDUCATIONAL SERVICE DISTRICT 121   \n",
       "2573        PIERCE    PUGET SOUND EDUCATIONAL SERVICE DISTRICT 121   \n",
       "2574       SPOKANE                EDUCATIONAL SERVICE DISTRICT 101   \n",
       "2575          KING    PUGET SOUND EDUCATIONAL SERVICE DISTRICT 121   \n",
       "2576        KITSAP    PUGET SOUND EDUCATIONAL SERVICE DISTRICT 121   \n",
       "2577  GRAYS HARBOR                EDUCATIONAL SERVICE DISTRICT 113   \n",
       "2578        YAKIMA                EDUCATIONAL SERVICE DISTRICT 105   \n",
       "2579        ISLAND      NORTHWEST EDUCATIONAL SERVICE DISTRICT 189   \n",
       "2580          KING    PUGET SOUND EDUCATIONAL SERVICE DISTRICT 121   \n",
       "2581     SNOHOMISH      NORTHWEST EDUCATIONAL SERVICE DISTRICT 189   \n",
       "2582          KING    PUGET SOUND EDUCATIONAL SERVICE DISTRICT 121   \n",
       "2583  GRAYS HARBOR                EDUCATIONAL SERVICE DISTRICT 113   \n",
       "2584      THURSTON                EDUCATIONAL SERVICE DISTRICT 113   \n",
       "2585          KING    PUGET SOUND EDUCATIONAL SERVICE DISTRICT 121   \n",
       "2586          KING    PUGET SOUND EDUCATIONAL SERVICE DISTRICT 121   \n",
       "2587          KING    PUGET SOUND EDUCATIONAL SERVICE DISTRICT 121   \n",
       "2588        BENTON                EDUCATIONAL SERVICE DISTRICT 123   \n",
       "2589     SNOHOMISH      NORTHWEST EDUCATIONAL SERVICE DISTRICT 189   \n",
       "2590          KING    PUGET SOUND EDUCATIONAL SERVICE DISTRICT 121   \n",
       "2591       SPOKANE                EDUCATIONAL SERVICE DISTRICT 101   \n",
       "2592       SPOKANE                EDUCATIONAL SERVICE DISTRICT 101   \n",
       "2593     SNOHOMISH      NORTHWEST EDUCATIONAL SERVICE DISTRICT 189   \n",
       "2594      FRANKLIN                EDUCATIONAL SERVICE DISTRICT 123   \n",
       "\n",
       "      Grade_Levels  Has_kindergarten  Has_6thGrade  \\\n",
       "3              5-8                 N             Y   \n",
       "6             PK-6                 Y             Y   \n",
       "14             P-1                 Y             N   \n",
       "19             6-8                 N             Y   \n",
       "21             P-1                 Y             N   \n",
       "22             6-8                 N             Y   \n",
       "23           K -12                 Y             Y   \n",
       "25            PK-6                 Y             Y   \n",
       "26            K -5                 Y             N   \n",
       "27            K -6                 Y             Y   \n",
       "28             P-8                 Y             Y   \n",
       "29             P-8                 Y             Y   \n",
       "30            K -5                 Y             N   \n",
       "31            K -8                 Y             Y   \n",
       "32            9-12                 N             N   \n",
       "33             7-8                 N             N   \n",
       "35            K -6                 Y             Y   \n",
       "36            K -5                 Y             N   \n",
       "37             7-8                 N             N   \n",
       "38            9-12                 N             N   \n",
       "39            9-12                 N             N   \n",
       "40            9-12                 N             N   \n",
       "41            PK-3                 Y             N   \n",
       "42            K -4                 Y             N   \n",
       "43             P-8                 Y             Y   \n",
       "44            PK-5                 Y             N   \n",
       "45             6-8                 N             Y   \n",
       "46            K -6                 Y             Y   \n",
       "47            K -5                 Y             N   \n",
       "48             6-8                 N             Y   \n",
       "...            ...               ...           ...   \n",
       "2565           P-8                 Y             Y   \n",
       "2566          PK-5                 Y             N   \n",
       "2567           4-6                 N             Y   \n",
       "2568          K -6                 Y             Y   \n",
       "2569          P-12                 Y             Y   \n",
       "2570           P-8                 Y             Y   \n",
       "2571          P-12                 Y             Y   \n",
       "2572          9-12                 N             N   \n",
       "2573          K -6                 Y             Y   \n",
       "2574          PK-5                 Y             N   \n",
       "2575          K -5                 Y             N   \n",
       "2576           7-8                 N             N   \n",
       "2577         K -12                 Y             Y   \n",
       "2578          P-12                 Y             Y   \n",
       "2579           1-8                 N             Y   \n",
       "2580          K -5                 Y             N   \n",
       "2581          K -6                 Y             Y   \n",
       "2582           P-3                 Y             N   \n",
       "2583           4-6                 N             Y   \n",
       "2584          4-12                 N             Y   \n",
       "2585           8-9                 N             N   \n",
       "2586          9-12                 N             N   \n",
       "2587          K -5                 Y             N   \n",
       "2588          K -5                 Y             N   \n",
       "2589          K -5                 Y             N   \n",
       "2590           7-8                 N             N   \n",
       "2591           6-8                 N             Y   \n",
       "2592           P-8                 Y             Y   \n",
       "2593          PK-5                 Y             N   \n",
       "2594           P-8                 Y             Y   \n",
       "\n",
       "                                             Location 1  \n",
       "3        701 E AVENUE\\nGRANGER\\n(46.347133, -120.18824)  \n",
       "6                                  P.O. BOX 248\\nODESSA  \n",
       "14    7333 TRACYTON BLVD\\nBREMERTON\\n(47.629949, -12...  \n",
       "19    100 W HARRISON (MAIL: 3203 NW 64TH ST #1 SEATT...  \n",
       "21    13000 BEVERLY PARK RD\\nMUKILTEO\\n(47.880305, -...  \n",
       "22    1801 E. 56TH STREET\\nTACOMA\\n(47.206249, -122....  \n",
       "23                                    P O BOX 8\\nEASTON  \n",
       "25    8201 LOCUST AVE E\\nBONNEY LAKE\\n(47.183028, -1...  \n",
       "26    1150 NW BRYANT\\nPULLMAN\\n(46.739415, -117.181317)  \n",
       "27    22109 108TH AVE E\\nGRAHAM\\n(47.054829, -122.28...  \n",
       "28    9450 NE 14TH ST\\nCLYDE HILL\\n(47.622943, -122....  \n",
       "29     7112 S 12TH ST\\nTACOMA\\n(47.249939, -122.532949)  \n",
       "30    3707 SUNNYSIDE BLVD\\nMARYSVILLE\\n(48.030068, -...  \n",
       "31    3034 HUFFMAN RD\\nVALLEY\\n(48.169308, -117.720577)  \n",
       "32    1103 S. WASCO AVENUE\\nWAPATO\\n(46.438185, -120...  \n",
       "33        417 C ST SE\\nQUINCY\\n(47.235431, -119.846158)  \n",
       "35    800 E PROVIDENCE AVE\\nSPOKANE\\n(47.692318, -11...  \n",
       "36    16734 S. COTTONWOOD CREEK BLVD.\\nKENNEWICK\\n(4...  \n",
       "37    23480 120TH AVE SE\\nKENT\\n(47.390508, -122.181...  \n",
       "38       212 S 6TH AVE\\nYAKIMA\\n(46.596776, -120.51568)  \n",
       "39    10601 NE 132ND\\nKIRKLAND\\n(47.719041, -122.19795)  \n",
       "40    12430 SE 208TH ST\\nKENT\\n(47.415857, -122.172551)  \n",
       "41    1107 GRACE AVENUE\\nBENTON CITY\\n(46.270937, -1...  \n",
       "42       830 STONE RD\\nYAKIMA\\n(46.588487, -120.709408)  \n",
       "43    515 W ST THOMAS MORE WAY\\nSPOKANE\\n(47.733183,...  \n",
       "44    6323 S HOLLY ROAD\\nCHENEY\\n(47.594031, -117.53...  \n",
       "45     902 S 44TH AVE\\nYAKIMA\\n(46.586506, -120.567128)  \n",
       "46    1005 S 11TH ST\\nMOUNT VERNON\\n(48.415197, -122...  \n",
       "47    2820 S ORCAS ST\\nSEATTLE\\n(47.550855, -122.295...  \n",
       "48    14401 NE 8TH STREET\\nBELLEVUE\\n(47.617131, -12...  \n",
       "...                                                 ...  \n",
       "2565  518 NORTH H ST\\nABERDEEN\\n(46.979684, -123.82015)  \n",
       "2566  12021 E. 24TH AVE.\\nSPOKANE\\n(47.635131, -117....  \n",
       "2567   303 SECOND AVE\\nZILLAH\\n(46.403568, -120.263868)  \n",
       "2568  1020 MCLEAN RD\\nMOUNT VERNON\\n(48.420899, -122...  \n",
       "2569  1601 NORTH STREET\\nOLYMPIA\\n(47.016537, -122.8...  \n",
       "2570       202 N 4TH ST\\nYAKIMA\\n(46.605813, -120.5028)  \n",
       "2571  10212 E 9TH AVE\\nSPOKANE\\n(47.648752, -117.267...  \n",
       "2572  8601 RAINIER AVE S\\nSEATTLE\\n(47.524495, -122....  \n",
       "2573  6312 WALLER RD E\\nTACOMA\\n(47.199758, -122.389...  \n",
       "2574  5504 W HALLETT RD\\nSPOKANE\\n(47.594538, -117.4...  \n",
       "2575  8311 BEACON AV S\\nSEATTLE\\n(47.529501, -122.28...  \n",
       "2576  9100 NE SPORTSMAN CLUB RD\\nBAINBRIDGE ISLAND\\n...  \n",
       "2577  4640 WISHKAH RD.\\nABERDEEN\\n(47.118226, -123.7...  \n",
       "2578  3902 SUMMITVIEW AVE\\nYAKIMA\\n(46.599901, -120....  \n",
       "2579  31830 SR 20\\nOAK HARBOR\\n(48.294805, -122.656168)  \n",
       "2580  12619 SE 20TH PLACE\\nBELLEVUE\\n(47.592758, -12...  \n",
       "2581  9601 220TH ST SW\\nEDMONDS\\n(47.799603, -122.36...  \n",
       "2582  19455 136TH PLACE SE\\nRENTON\\n(47.427084, -122...  \n",
       "2583  519 WEST SIMPSON AVENUE\\nMONTESANO\\n(46.986138...  \n",
       "2584  7741 LITTLEROCK RD SW\\nTUMWATER\\n(46.97519, -1...  \n",
       "2585  25600 SE SUMMIT LANDSBURG ROAD\\nRAVENSDALE\\n(4...  \n",
       "2586  35999 16TH AV S\\nFEDERAL WAY\\n(47.278682, -122...  \n",
       "2587  2300 TALBOT RD S\\nRENTON\\n(47.458843, -122.212...  \n",
       "2588  1701 N YOUNG ST\\nKENNEWICK\\n(46.228127, -119.2...  \n",
       "2589      501 DATE ST\\nSULTAN\\n(47.865461, -121.815696)  \n",
       "2590  16222 SYLVESTER ROAD SW\\nBURIEN\\n(47.457847, -...  \n",
       "2591  6120 SOUTH ABBOTT ROAD\\nSPOKANE\\n(47.59625, -1...  \n",
       "2592  1306 W MONTGOMERY AVE\\nSPOKANE\\n(47.67857, -11...  \n",
       "2593  3411 99TH AVE NE\\nLAKE STEVENS\\n(48.02726, -12...  \n",
       "2594   1016 N 14TH AVE\\nPASCO\\n(46.236277, -119.107275)  \n",
       "\n",
       "[2476 rows x 35 columns]>"
      ]
     },
     "execution_count": 309,
     "metadata": {},
     "output_type": "execute_result"
    }
   ],
   "source": [
    "#Next I removed the rows where schools didn't provide any information and were blank and check \n",
    "#to ensure the rows have been dropped.\n",
    "\n",
    "data = data.dropna()\n",
    "data.head"
   ]
  },
  {
   "cell_type": "code",
   "execution_count": 310,
   "metadata": {},
   "outputs": [],
   "source": [
    "#Here we create 3 new variables to convert number of students per exemption\n",
    "#to percent with exemption as number of students is meaningless without\n",
    "#context for amount of students per school.\n",
    "\n",
    "\n",
    "data.Percent_with_medical_exemption = data.Number_with_medical_exemption/data.K_12_enrollment*100\n",
    "\n",
    "data.Percent_with_personal_exemption = data.Number_with_personal_exemption/data.K_12_enrollment*100\n",
    "\n",
    "data.Percent_with_religious_exemption = data.Number_with_religious_exemption/data.K_12_enrollment*100\n",
    "\n"
   ]
  },
  {
   "cell_type": "code",
   "execution_count": 311,
   "metadata": {},
   "outputs": [
    {
     "data": {
      "image/png": "[encoded data removed]",
      "text/plain": [
       "<Figure size 432x288 with 1 Axes>"
      ]
     },
     "metadata": {
      "needs_background": "light"
     },
     "output_type": "display_data"
    }
   ],
   "source": [
    "#I created  several columns for data with schools that have kindergarten\n",
    "#and plot a histogram of the new data.\n",
    "\n",
    "\n",
    "enroll_kinder = data.K_12_enrollment[data.Has_kindergarten == 'Y']\n",
    "all_immun_kinder = data.Percent_complete_for_all_immunizations[data.Has_kindergarten == 'Y']\n",
    "any_exemp_kinder = data.Percent_with_any_exemption[data.Has_kindergarten == 'Y']\n",
    "med_exemp_kinder = data.Percent_with_medical_exemption[data.Has_kindergarten == 'Y']\n",
    "per_exemp_kinder = data.Percent_with_personal_exemption[data.Has_kindergarten == 'Y']\n",
    "rel_exemp_kinder = data.Percent_with_religious_exemption[data.Has_kindergarten == 'Y']\n",
    "\n",
    "\n",
    "enroll_hist_kinder = thinkstats2.Hist(enroll_kinder)\n",
    "\n",
    "thinkplot.Hist(enroll_hist_kinder)\n",
    "thinkplot.config(xlabel = 'Number of students')"
   ]
  },
  {
   "cell_type": "code",
   "execution_count": 312,
   "metadata": {},
   "outputs": [
    {
     "data": {
      "image/png": "[encoded data removed]",
      "text/plain": [
       "<Figure size 432x288 with 1 Axes>"
      ]
     },
     "metadata": {
      "needs_background": "light"
     },
     "output_type": "display_data"
    }
   ],
   "source": [
    "#I created several columns for data with schools that have 6th grade\n",
    "#and plot a histogram of the new data.\n",
    "\n",
    "\n",
    "enroll_sixthgr = data.K_12_enrollment[data.Has_6thGrade == 'Y']\n",
    "all_immun_sixthgr = data.Percent_complete_for_all_immunizations[data.Has_6thGrade == 'Y']\n",
    "any_exemp_sixthgr = data.Percent_with_any_exemption[data.Has_6thGrade == 'Y']\n",
    "med_exemp_sixthgr = data.Percent_with_medical_exemption[data.Has_6thGrade == 'Y']\n",
    "per_exemp_sixthgr = data.Percent_with_personal_exemption[data.Has_6thGrade == 'Y']\n",
    "rel_exemp_sixthgr = data.Percent_with_religious_exemption[data.Has_6thGrade == 'Y']\n",
    "\n",
    "\n",
    "\n",
    "enroll_hist_sixth = thinkstats2.Hist(enroll_sixthgr)\n",
    "\n",
    "\n",
    "thinkplot.Hist(enroll_hist_sixth)\n",
    "thinkplot.config(xlabel = 'Number of students')"
   ]
  },
  {
   "cell_type": "code",
   "execution_count": 313,
   "metadata": {},
   "outputs": [
    {
     "data": {
      "image/png": "[encoded data removed]",
      "text/plain": [
       "<Figure size 432x288 with 1 Axes>"
      ]
     },
     "metadata": {
      "needs_background": "light"
     },
     "output_type": "display_data"
    }
   ],
   "source": [
    "#I created several columns for data with schools that do not have 6th grade\n",
    "#or kindergarten and plot a histogram of the new data.\n",
    "\n",
    "enroll_neithgr = data.K_12_enrollment[data.Has_6thGrade == 'N'][data.Has_kindergarten == 'N']\n",
    "all_immun_neithgr  = data.Percent_complete_for_all_immunizations[data.Has_6thGrade == 'N'][data.Has_kindergarten == 'N']\n",
    "any_exemp_neithgr  = data.Percent_with_any_exemption[data.Has_6thGrade == 'N'][data.Has_kindergarten == 'N']\n",
    "med_exemp_neithgr = data.Percent_with_medical_exemption[data.Has_6thGrade == 'N'][data.Has_kindergarten == 'N']\n",
    "per_exemp_neithgr  = data.Percent_with_personal_exemption[data.Has_6thGrade == 'N'][data.Has_kindergarten == 'N']\n",
    "rel_exemp_neithgr  = data.Percent_with_religious_exemption[data.Has_6thGrade == 'N'][data.Has_kindergarten == 'N']\n",
    "\n",
    "\n",
    "enroll_hist_neithgr = thinkstats2.Hist(enroll_neithgr)\n",
    "\n",
    "thinkplot.Hist(enroll_hist_neithgr)\n",
    "thinkplot.config(xlabel = 'Number of students')"
   ]
  },
  {
   "cell_type": "code",
   "execution_count": 314,
   "metadata": {},
   "outputs": [
    {
     "name": "stdout",
     "output_type": "stream",
     "text": [
      "365.5430809399478\n",
      "369.28144796380093\n",
      "667.6962457337884\n",
      "0    455.0\n",
      "dtype: float64\n",
      "0     7.0\n",
      "1    13.0\n",
      "dtype: float64\n",
      "0     56.0\n",
      "1    112.0\n",
      "dtype: float64\n"
     ]
    }
   ],
   "source": [
    "#print the mean and mode of previous variables created\n",
    "\n",
    "\n",
    "print(enroll_kinder.mean())\n",
    "print(enroll_sixthgr.mean())\n",
    "print(enroll_neithgr.mean())\n",
    "\n",
    "print(enroll_kinder.mode())\n",
    "print(enroll_sixthgr.mode())\n",
    "print(enroll_neithgr.mode())"
   ]
  },
  {
   "cell_type": "code",
   "execution_count": 315,
   "metadata": {},
   "outputs": [
    {
     "data": {
      "image/png": "[encoded data removed]",
      "text/plain": [
       "<Figure size 432x288 with 1 Axes>"
      ]
     },
     "metadata": {
      "needs_background": "light"
     },
     "output_type": "display_data"
    }
   ],
   "source": [
    "#looking at the histogram for schools with kindergarten \n",
    "#that have all immunizations\n",
    "\n",
    "all_immun_hist_kinder = thinkstats2.Hist(all_immun_kinder)\n",
    "\n",
    "thinkplot.Hist(all_immun_hist_kinder)\n",
    "thinkplot.config(xlabel = 'Percentage of students', ylim=[0,20], xlim=[20,100])\n",
    "\n"
   ]
  },
  {
   "cell_type": "code",
   "execution_count": 316,
   "metadata": {},
   "outputs": [
    {
     "data": {
      "image/png": "[encoded data removed]",
      "text/plain": [
       "<Figure size 432x288 with 1 Axes>"
      ]
     },
     "metadata": {
      "needs_background": "light"
     },
     "output_type": "display_data"
    }
   ],
   "source": [
    "#looking at the histogram for schools with 6th grade \n",
    "#that have all immunizations\n",
    "\n",
    "\n",
    "all_immun_hist_sixthgr = thinkstats2.Hist(all_immun_sixthgr)\n",
    "\n",
    "thinkplot.Hist(all_immun_hist_sixthgr)\n",
    "thinkplot.config(xlabel = 'Percentage of students', ylim=[0,15], xlim=[10,100])\n"
   ]
  },
  {
   "cell_type": "code",
   "execution_count": 317,
   "metadata": {},
   "outputs": [
    {
     "data": {
      "image/png": "[encoded data removed]",
      "text/plain": [
       "<Figure size 432x288 with 1 Axes>"
      ]
     },
     "metadata": {
      "needs_background": "light"
     },
     "output_type": "display_data"
    }
   ],
   "source": [
    "#looking at the histogram for schools with neither 6th grade \n",
    "#nor kindergarten that have all immunizations\n",
    "\n",
    "all_immun_hist_neithgr = thinkstats2.Hist(all_immun_neithgr)\n",
    "\n",
    "thinkplot.Hist(all_immun_hist_neithgr)\n",
    "thinkplot.config(xlabel = 'Percentage of students', ylim=[0,6], xlim=[25,100])\n"
   ]
  },
  {
   "cell_type": "code",
   "execution_count": 318,
   "metadata": {},
   "outputs": [
    {
     "name": "stdout",
     "output_type": "stream",
     "text": [
      "87.06103133159257\n",
      "84.21194570135742\n",
      "81.25648464163822\n",
      "0    100.0\n",
      "dtype: float64\n",
      "0    100.0\n",
      "dtype: float64\n",
      "0    100.0\n",
      "dtype: float64\n"
     ]
    }
   ],
   "source": [
    "#print the mean and mode of previous variables created\n",
    "\n",
    "\n",
    "print(all_immun_kinder.mean())\n",
    "print(all_immun_sixthgr.mean())\n",
    "print(all_immun_neithgr.mean())\n",
    "\n",
    "print(all_immun_kinder.mode())\n",
    "print(all_immun_sixthgr.mode())\n",
    "print(all_immun_neithgr.mode())"
   ]
  },
  {
   "cell_type": "code",
   "execution_count": 319,
   "metadata": {},
   "outputs": [
    {
     "data": {
      "image/png": "[encoded data removed]",
      "text/plain": [
       "<Figure size 432x288 with 1 Axes>"
      ]
     },
     "metadata": {
      "needs_background": "light"
     },
     "output_type": "display_data"
    }
   ],
   "source": [
    "#looking at the histogram for schools with kindergarten \n",
    "#that have any exemptions\n",
    "\n",
    "any_exemp_hist_kinder = thinkstats2.Hist(any_exemp_kinder)\n",
    "\n",
    "thinkplot.Hist(any_exemp_hist_kinder)\n",
    "thinkplot.config(xlabel = 'Percentage of students', ylim=[0,25], xlim=[0,80])\n"
   ]
  },
  {
   "cell_type": "code",
   "execution_count": 320,
   "metadata": {
    "scrolled": true
   },
   "outputs": [
    {
     "data": {
      "image/png": "[encoded data removed]",
      "text/plain": [
       "<Figure size 432x288 with 1 Axes>"
      ]
     },
     "metadata": {
      "needs_background": "light"
     },
     "output_type": "display_data"
    }
   ],
   "source": [
    "#looking at the histogram for schools with 6th grade \n",
    "#that have any exemptions\n",
    "\n",
    "any_exemp_hist_sixthgr = thinkstats2.Hist(any_exemp_sixthgr)\n",
    "\n",
    "thinkplot.Hist(any_exemp_hist_sixthgr)\n",
    "thinkplot.config(xlabel = 'Percentage of students', ylim=[0,15], xlim=[0,80])\n"
   ]
  },
  {
   "cell_type": "code",
   "execution_count": 321,
   "metadata": {},
   "outputs": [
    {
     "data": {
      "image/png": "[encoded data removed]",
      "text/plain": [
       "<Figure size 432x288 with 1 Axes>"
      ]
     },
     "metadata": {
      "needs_background": "light"
     },
     "output_type": "display_data"
    }
   ],
   "source": [
    "#looking at the histogram for schools with neither 6th grade \n",
    "#nor that have any exemptions\n",
    "\n",
    "any_exemp_hist_neithgr = thinkstats2.Hist(any_exemp_neithgr)\n",
    "\n",
    "thinkplot.Hist(any_exemp_hist_neithgr)\n",
    "thinkplot.config(xlabel = 'Percentage of students', ylim=[0,15], xlim=[0,35])\n"
   ]
  },
  {
   "cell_type": "code",
   "execution_count": 322,
   "metadata": {},
   "outputs": [
    {
     "name": "stdout",
     "output_type": "stream",
     "text": [
      "6.728067885117497\n",
      "7.635022624434396\n",
      "5.896928327645051\n",
      "0    0.0\n",
      "dtype: float64\n",
      "0    0.0\n",
      "dtype: float64\n",
      "0    0.0\n",
      "dtype: float64\n"
     ]
    }
   ],
   "source": [
    "#print the mean and mode of previous variables created\n",
    "\n",
    "\n",
    "print(any_exemp_kinder.mean())\n",
    "print(any_exemp_sixthgr.mean())\n",
    "print(any_exemp_neithgr.mean())\n",
    "\n",
    "print(any_exemp_kinder.mode())\n",
    "print(any_exemp_sixthgr.mode())\n",
    "print(any_exemp_neithgr.mode())"
   ]
  },
  {
   "cell_type": "code",
   "execution_count": 323,
   "metadata": {},
   "outputs": [
    {
     "data": {
      "image/png": "[encoded data removed]",
      "text/plain": [
       "<Figure size 432x288 with 1 Axes>"
      ]
     },
     "metadata": {
      "needs_background": "light"
     },
     "output_type": "display_data"
    }
   ],
   "source": [
    "#looking at the histogram for schools with kindergarten \n",
    "#that have medical exemptions\n",
    "\n",
    "med_exemp_hist_kinder = thinkstats2.Hist(med_exemp_kinder)\n",
    "\n",
    "thinkplot.Hist(med_exemp_hist_kinder)\n",
    "thinkplot.config(xlabel = 'Percentage of students', ylim=[0,5], xlim=[0,4])\n"
   ]
  },
  {
   "cell_type": "code",
   "execution_count": 324,
   "metadata": {},
   "outputs": [
    {
     "data": {
      "image/png": "[encoded data removed]",
      "text/plain": [
       "<Figure size 432x288 with 1 Axes>"
      ]
     },
     "metadata": {
      "needs_background": "light"
     },
     "output_type": "display_data"
    }
   ],
   "source": [
    "#looking at the histogram for schools with 6th grade \n",
    "#that have medical exemptions\n",
    "\n",
    "med_exemp_hist_sixthgr = thinkstats2.Hist(med_exemp_sixthgr)\n",
    "\n",
    "thinkplot.Hist(med_exemp_hist_sixthgr)\n",
    "thinkplot.config(xlabel = 'Percentage of students', ylim=[0,5], xlim=[0,5])\n"
   ]
  },
  {
   "cell_type": "code",
   "execution_count": 325,
   "metadata": {},
   "outputs": [
    {
     "data": {
      "image/png": "[encoded data removed]",
      "text/plain": [
       "<Figure size 432x288 with 1 Axes>"
      ]
     },
     "metadata": {
      "needs_background": "light"
     },
     "output_type": "display_data"
    }
   ],
   "source": [
    "#looking at the histogram for schools with neither 6th grade \n",
    "#nor kindergarten that have medical exemptions\n",
    "\n",
    "med_exemp_hist_neithgr = thinkstats2.Hist(med_exemp_neithgr)\n",
    "\n",
    "thinkplot.Hist(med_exemp_hist_neithgr)\n",
    "thinkplot.config(xlabel = 'Percentage of students', ylim=[0,5], xlim=[0,5])\n"
   ]
  },
  {
   "cell_type": "code",
   "execution_count": 326,
   "metadata": {},
   "outputs": [
    {
     "name": "stdout",
     "output_type": "stream",
     "text": [
      "1.1390426632545831\n",
      "1.1217691057541266\n",
      "1.0981906510597526\n",
      "0    0.0\n",
      "dtype: float64\n",
      "0    0.0\n",
      "dtype: float64\n",
      "0    0.0\n",
      "dtype: float64\n"
     ]
    }
   ],
   "source": [
    "#printing mean and mode of previous variables created \n",
    "\n",
    "print(med_exemp_kinder.mean())\n",
    "print(med_exemp_sixthgr.mean())\n",
    "print(med_exemp_neithgr.mean())\n",
    "\n",
    "print(med_exemp_kinder.mode())\n",
    "print(med_exemp_sixthgr.mode())\n",
    "print(med_exemp_neithgr.mode())"
   ]
  },
  {
   "cell_type": "code",
   "execution_count": 327,
   "metadata": {},
   "outputs": [
    {
     "data": {
      "image/png": "[encoded data removed]",
      "text/plain": [
       "<Figure size 432x288 with 1 Axes>"
      ]
     },
     "metadata": {
      "needs_background": "light"
     },
     "output_type": "display_data"
    }
   ],
   "source": [
    "#looking at the histogram for schools with kindergarten \n",
    "#that have personal exemptions\n",
    "\n",
    "per_exemp_hist_kinder = thinkstats2.Hist(per_exemp_kinder)\n",
    "\n",
    "thinkplot.Hist(per_exemp_hist_kinder)\n",
    "thinkplot.config(xlabel = 'Percentage of students', ylim=[0,5], xlim=[0,10])\n"
   ]
  },
  {
   "cell_type": "code",
   "execution_count": 328,
   "metadata": {},
   "outputs": [
    {
     "data": {
      "image/png": "[encoded data removed]",
      "text/plain": [
       "<Figure size 432x288 with 1 Axes>"
      ]
     },
     "metadata": {
      "needs_background": "light"
     },
     "output_type": "display_data"
    }
   ],
   "source": [
    "#looking at the histogram for schools with 6th grade \n",
    "#that have personal exemptions\n",
    "\n",
    "per_exemp_hist_sixthgr = thinkstats2.Hist(per_exemp_sixthgr)\n",
    "\n",
    "thinkplot.Hist(per_exemp_hist_sixthgr)\n",
    "thinkplot.config(xlabel = 'Percentage of students', ylim=[0,5], xlim=[0,10])\n"
   ]
  },
  {
   "cell_type": "code",
   "execution_count": 329,
   "metadata": {},
   "outputs": [
    {
     "data": {
      "image/png": "[encoded data removed]",
      "text/plain": [
       "<Figure size 432x288 with 1 Axes>"
      ]
     },
     "metadata": {
      "needs_background": "light"
     },
     "output_type": "display_data"
    }
   ],
   "source": [
    "#looking at the histogram for schools with neither 6th grade \n",
    "# nor kindergarten that have personal exemptions\n",
    "\n",
    "per_exemp_hist_neithgr = thinkstats2.Hist(per_exemp_neithgr)\n",
    "\n",
    "thinkplot.Hist(per_exemp_hist_neithgr)\n",
    "thinkplot.config(xlabel = 'Percentage of students', ylim=[0,5], xlim=[0,5])\n"
   ]
  },
  {
   "cell_type": "code",
   "execution_count": 330,
   "metadata": {},
   "outputs": [
    {
     "name": "stdout",
     "output_type": "stream",
     "text": [
      "5.244090035634166\n",
      "6.11317703763346\n",
      "4.564286074371192\n",
      "0    0.0\n",
      "dtype: float64\n",
      "0    0.0\n",
      "dtype: float64\n",
      "0    0.0\n",
      "dtype: float64\n"
     ]
    }
   ],
   "source": [
    "#print the mean and mode of previous variables created\n",
    "\n",
    "\n",
    "print(per_exemp_kinder.mean())\n",
    "print(per_exemp_sixthgr.mean())\n",
    "print(per_exemp_neithgr.mean())\n",
    "\n",
    "print(per_exemp_kinder.mode())\n",
    "print(per_exemp_sixthgr.mode())\n",
    "print(per_exemp_neithgr.mode())"
   ]
  },
  {
   "cell_type": "code",
   "execution_count": 331,
   "metadata": {},
   "outputs": [
    {
     "data": {
      "image/png": "[encoded data removed]",
      "text/plain": [
       "<Figure size 432x288 with 1 Axes>"
      ]
     },
     "metadata": {
      "needs_background": "light"
     },
     "output_type": "display_data"
    }
   ],
   "source": [
    "#looking at the histogram for schools with kindergarten\n",
    "#that have religious exemptions\n",
    "\n",
    "rel_exemp_hist_kinder = thinkstats2.Hist(rel_exemp_kinder)\n",
    "\n",
    "thinkplot.Hist(rel_exemp_hist_kinder)\n",
    "thinkplot.config(xlabel = 'Percentage of students', ylim=[0,5], xlim=[0,5])\n"
   ]
  },
  {
   "cell_type": "code",
   "execution_count": 332,
   "metadata": {},
   "outputs": [
    {
     "data": {
      "image/png": "[encoded data removed]",
      "text/plain": [
       "<Figure size 432x288 with 1 Axes>"
      ]
     },
     "metadata": {
      "needs_background": "light"
     },
     "output_type": "display_data"
    }
   ],
   "source": [
    "#looking at the histogram for schools with 6th grade\n",
    "#that have religious exemptions\n",
    "\n",
    "rel_exemp_hist_sixthgr = thinkstats2.Hist(rel_exemp_sixthgr)\n",
    "\n",
    "thinkplot.Hist(rel_exemp_hist_sixthgr)\n",
    "thinkplot.config(xlabel = 'Percentage of students', ylim=[0,5], xlim=[0,5])\n"
   ]
  },
  {
   "cell_type": "code",
   "execution_count": 333,
   "metadata": {},
   "outputs": [
    {
     "data": {
      "image/png": "[encoded data removed]",
      "text/plain": [
       "<Figure size 432x288 with 1 Axes>"
      ]
     },
     "metadata": {
      "needs_background": "light"
     },
     "output_type": "display_data"
    }
   ],
   "source": [
    "#looking at the histogram for schools with neither 6th grade\n",
    "#that have religious exemptions\n",
    "\n",
    "rel_exemp_hist_neithgr = thinkstats2.Hist(rel_exemp_neithgr)\n",
    "\n",
    "thinkplot.Hist(rel_exemp_hist_neithgr)\n",
    "thinkplot.config(xlabel = 'Percentage of students', ylim=[0,5], xlim=[0,5])\n"
   ]
  },
  {
   "cell_type": "code",
   "execution_count": 334,
   "metadata": {},
   "outputs": [
    {
     "name": "stdout",
     "output_type": "stream",
     "text": [
      "0.367212249100691\n",
      "0.43612737607000074\n",
      "0.37696460011537053\n",
      "0    0.0\n",
      "dtype: float64\n",
      "0    0.0\n",
      "dtype: float64\n",
      "0    0.0\n",
      "dtype: float64\n"
     ]
    }
   ],
   "source": [
    "#print the mean and mode of previous variables created\n",
    "\n",
    "\n",
    "print(rel_exemp_kinder.mean())\n",
    "print(rel_exemp_sixthgr.mean())\n",
    "print(rel_exemp_neithgr.mean())\n",
    "\n",
    "print(rel_exemp_kinder.mode())\n",
    "print(rel_exemp_sixthgr.mode())\n",
    "print(rel_exemp_neithgr.mode())"
   ]
  },
  {
   "cell_type": "code",
   "execution_count": null,
   "metadata": {},
   "outputs": [],
   "source": []
  },
  {
   "cell_type": "code",
   "execution_count": 335,
   "metadata": {},
   "outputs": [],
   "source": [
    "#create subsets similar to above to create a pmf\n",
    "\n",
    "subset1 = data[(data['Has_kindergarten'] =='Y')]\n",
    "#random_subset = random_subset.sample(n=50)\n",
    "subset2 = data[(data['Has_6thGrade'] =='N') & (data['Has_kindergarten']=='N')]\n"
   ]
  },
  {
   "cell_type": "code",
   "execution_count": 336,
   "metadata": {},
   "outputs": [
    {
     "data": {
      "image/png": "[encoded data removed]",
      "text/plain": [
       "<Figure size 432x288 with 1 Axes>"
      ]
     },
     "metadata": {
      "needs_background": "light"
     },
     "output_type": "display_data"
    }
   ],
   "source": [
    "pmf = thinkstats2.Pmf(subset1.Percent_complete_for_all_immunizations)\n",
    "pmf\n",
    "\n",
    "thinkplot.Pmf(pmf)"
   ]
  },
  {
   "cell_type": "code",
   "execution_count": 337,
   "metadata": {},
   "outputs": [
    {
     "data": {
      "image/png": "[encoded data removed]",
      "text/plain": [
       "<Figure size 432x288 with 1 Axes>"
      ]
     },
     "metadata": {
      "needs_background": "light"
     },
     "output_type": "display_data"
    }
   ],
   "source": [
    "pmf = thinkstats2.Pmf(subset2.Percent_complete_for_all_immunizations)\n",
    "pmf\n",
    "\n",
    "thinkplot.Pmf(pmf)"
   ]
  },
  {
   "cell_type": "code",
   "execution_count": 338,
   "metadata": {},
   "outputs": [
    {
     "name": "stderr",
     "output_type": "stream",
     "text": [
      "C:\\Users\\Zack\\Downloads\\ThinkStats2-master\\code\\thinkplot.py:162: MatplotlibDeprecationWarning: Adding an axes using the same arguments as a previous axes currently reuses the earlier instance.  In a future version, a new instance will always be created and returned.  Meanwhile, this warning can be suppressed, and the future behavior ensured, by passing a unique label to each axes instance.\n",
      "  ax = plt.subplot(rows, cols, 1)\n"
     ]
    },
    {
     "data": {
      "image/png": "[encoded data removed]",
      "text/plain": [
       "<Figure size 864x432 with 2 Axes>"
      ]
     },
     "metadata": {
      "needs_background": "light"
     },
     "output_type": "display_data"
    },
    {
     "data": {
      "text/plain": [
       "<Figure size 576x432 with 0 Axes>"
      ]
     },
     "metadata": {},
     "output_type": "display_data"
    }
   ],
   "source": [
    "#combine and overlap pmf's to see the difference better\n",
    "\n",
    "\n",
    "thinkplot.PrePlot(2, cols=2)\n",
    "\n",
    "kinder_pmf = thinkstats2.Pmf(subset1.Percent_complete_for_all_immunizations)\n",
    "sixthgr_pmf = thinkstats2.Pmf(subset2.Percent_complete_for_all_immunizations)\n",
    "\n",
    "thinkplot.PrePlot(2, cols=2)\n",
    "thinkplot.Hist(kinder_pmf, align='right', color = 'red')\n",
    "thinkplot.Hist(sixthgr_pmf, align='left', color = 'black')\n",
    "thinkplot.Config(xlabel='% Complete for all immunizations',ylabel='probability',xlim= [5,100], ylim =[0,0.010])\n",
    "\n",
    "thinkplot.PrePlot(2)\n",
    "thinkplot.SubPlot(2)\n",
    "thinkplot.Pmfs([kinder_pmf, sixthgr_pmf], color = 'black')\n",
    "thinkplot.Show(xlabel='% Complete for all immunizations')"
   ]
  },
  {
   "cell_type": "code",
   "execution_count": null,
   "metadata": {},
   "outputs": [],
   "source": []
  },
  {
   "cell_type": "code",
   "execution_count": 339,
   "metadata": {},
   "outputs": [
    {
     "data": {
      "image/png": "[encoded data removed]",
      "text/plain": [
       "<Figure size 432x288 with 1 Axes>"
      ]
     },
     "metadata": {
      "needs_background": "light"
     },
     "output_type": "display_data"
    }
   ],
   "source": [
    "#we look a cdf of the same data to see the difference we\n",
    "#noticed in pmf's also matches the cdf below\n",
    "\n",
    "cdf1 = thinkstats2.Cdf(subset1.Percent_complete_for_all_immunizations)\n",
    "cdf2 = thinkstats2.Cdf(subset2.Percent_complete_for_all_immunizations)\n",
    "thinkplot.Cdf(cdf2, color = 'black')\n",
    "thinkplot.Cdf(cdf1, color = 'red')\n",
    "thinkplot.Config(ylabel = 'CDF', xlabel = 'Percent for all immunizations')"
   ]
  },
  {
   "cell_type": "code",
   "execution_count": null,
   "metadata": {},
   "outputs": [],
   "source": []
  },
  {
   "cell_type": "code",
   "execution_count": 340,
   "metadata": {},
   "outputs": [
    {
     "data": {
      "image/png": "[encoded data removed]",
      "text/plain": [
       "<Figure size 432x288 with 1 Axes>"
      ]
     },
     "metadata": {
      "needs_background": "light"
     },
     "output_type": "display_data"
    }
   ],
   "source": [
    "#here we create a new variable and look at the variables \n",
    "#K_12_enrollment and Percent_complete_for_all_immunizations\n",
    "#to see a few analytical distriubtions including the pareto plot\n",
    "#and normal probability plot below\n",
    "\n",
    "\n",
    "noz = data[(data['K_12_enrollment'] >0) & (data['Percent_complete_for_all_immunizations'] >0)].sample(n=50)\n",
    "\n",
    "\n",
    "log_test = np.log10(noz.K_12_enrollment)\n",
    "cdf = thinkstats2.Cdf(noz.K_12_enrollment, label='data')\n",
    "cdf_log = thinkstats2.Cdf(log_test, label='data')\n",
    "\n",
    "#pareto plot\n",
    "xs, ys = thinkstats2.RenderParetoCdf(xmin=5000, alpha=1.4, low=0, high=1e7)\n",
    "thinkplot.Plot(np.log10(xs), 1-ys, label='model', color='.5')\n",
    "\n",
    "thinkplot.Cdf(cdf_log, complement=True) \n",
    "thinkplot.Config(xlabel='log10 population',\n",
    "                 ylabel='CCDF',\n",
    "                 yscale='log', loc='lower left')"
   ]
  },
  {
   "cell_type": "code",
   "execution_count": null,
   "metadata": {},
   "outputs": [],
   "source": []
  },
  {
   "cell_type": "code",
   "execution_count": 341,
   "metadata": {},
   "outputs": [
    {
     "data": {
      "image/png": "[encoded data removed]",
      "text/plain": [
       "<Figure size 864x432 with 1 Axes>"
      ]
     },
     "metadata": {
      "needs_background": "light"
     },
     "output_type": "display_data"
    }
   ],
   "source": [
    "#normal cdf plot\n",
    "\n",
    "thinkplot.PrePlot(cols=2)\n",
    "\n",
    "mu, sigma = log_test.mean(), log_test.std()\n",
    "xs, ps = thinkstats2.RenderNormalCdf(mu, sigma, low=0, high=8)\n",
    "thinkplot.Plot(xs, ps, label='model', color='0.5')\n",
    "\n",
    "thinkplot.Cdf(cdf_log) \n",
    "thinkplot.Config(xlabel='log10 population',\n",
    "                 ylabel='CDF', loc='lower right')"
   ]
  },
  {
   "cell_type": "code",
   "execution_count": 342,
   "metadata": {},
   "outputs": [
    {
     "data": {
      "image/png": "[encoded data removed]",
      "text/plain": [
       "<Figure size 432x288 with 1 Axes>"
      ]
     },
     "metadata": {
      "needs_background": "light"
     },
     "output_type": "display_data"
    }
   ],
   "source": [
    "#normal probability plot\n",
    "\n",
    "\n",
    "thinkstats2.NormalProbabilityPlot(log_test, label='data')\n",
    "thinkplot.Config(xlabel='Random variate',\n",
    "                 ylabel='log10 population',\n",
    "                 xlim=[-5, 5])"
   ]
  },
  {
   "cell_type": "code",
   "execution_count": null,
   "metadata": {},
   "outputs": [],
   "source": []
  },
  {
   "cell_type": "code",
   "execution_count": 343,
   "metadata": {},
   "outputs": [],
   "source": [
    "#define Cov and Corr for correlation and covariance\n",
    "\n",
    "\n",
    "def Cov(xs, ys, meanx=None, meany=None):\n",
    "    xs = np.asarray(xs)\n",
    "    ys = np.asarray(ys)\n",
    "\n",
    "    if meanx is None:\n",
    "        meanx = np.mean(xs)\n",
    "    if meany is None:\n",
    "        meany = np.mean(ys)\n",
    "\n",
    "    cov = np.dot(xs-meanx, ys-meany) / len(xs)\n",
    "    return cov\n",
    "\n",
    "\n",
    "\n",
    "def Corr(xs, ys):\n",
    "    xs = np.asarray(xs)\n",
    "    ys = np.asarray(ys)\n",
    "\n",
    "    meanx, varx = thinkstats2.MeanVar(xs)\n",
    "    meany, vary = thinkstats2.MeanVar(ys)\n",
    "\n",
    "    corr = Cov(xs, ys, meanx, meany) / np.sqrt(varx * vary)\n",
    "    return corr\n"
   ]
  },
  {
   "cell_type": "code",
   "execution_count": 344,
   "metadata": {},
   "outputs": [
    {
     "data": {
      "image/png": "[encoded data removed]",
      "text/plain": [
       "<Figure size 432x288 with 1 Axes>"
      ]
     },
     "metadata": {
      "needs_background": "light"
     },
     "output_type": "display_data"
    }
   ],
   "source": [
    "#create a new variable with no 0's and plot medical exemption % with personal exemption %\n",
    "\n",
    "noz = data[(data['Percent_with_medical_exemption'] >0) & (data['Percent_with_personal_exemption'] >0)& (data['Percent_with_religious_exemption'] >0)]\n",
    "\n",
    "\n",
    "thinkplot.Scatter(noz.Percent_with_medical_exemption,noz.Percent_with_personal_exemption, color = 'black', alpha = 1)"
   ]
  },
  {
   "cell_type": "code",
   "execution_count": 345,
   "metadata": {},
   "outputs": [
    {
     "name": "stdout",
     "output_type": "stream",
     "text": [
      "0.30822082431396924\n",
      "2.0314512224077657\n"
     ]
    }
   ],
   "source": [
    "#print out the correlation and covariance of \n",
    "#Percent_with_medical_exemption and Percent_with_personal_exemption\n",
    "\n",
    "print(Corr(noz.Percent_with_medical_exemption,noz.Percent_with_personal_exemption))\n",
    "print(Cov(noz.Percent_with_medical_exemption,noz.Percent_with_personal_exemption))\n"
   ]
  },
  {
   "cell_type": "code",
   "execution_count": 346,
   "metadata": {},
   "outputs": [
    {
     "data": {
      "text/plain": [
       "0.3239868147967389"
      ]
     },
     "execution_count": 346,
     "metadata": {},
     "output_type": "execute_result"
    }
   ],
   "source": [
    "#creates new variable without outliers and print out the correlation and covariance of \n",
    "#Percent_with_medical_exemption and Percent_with_personal_exemption to see the difference between \n",
    "#the version with all data and the one without outliers\n",
    "\n",
    "no_outlier = noz[(noz['Percent_with_medical_exemption'] <8) & (noz['Percent_with_personal_exemption'] <30)]\n",
    "Corr(no_outlier.Percent_with_medical_exemption,no_outlier.Percent_with_personal_exemption)\n",
    "\n"
   ]
  },
  {
   "cell_type": "code",
   "execution_count": 347,
   "metadata": {},
   "outputs": [
    {
     "data": {
      "image/png": "[encoded data removed]",
      "text/plain": [
       "<Figure size 432x288 with 1 Axes>"
      ]
     },
     "metadata": {
      "needs_background": "light"
     },
     "output_type": "display_data"
    }
   ],
   "source": [
    "#Plots medical exemption % with religious exemption %\n",
    "\n",
    "thinkplot.Scatter(noz.Percent_with_medical_exemption,noz.Percent_with_religious_exemption, color = 'black', alpha = 1)"
   ]
  },
  {
   "cell_type": "code",
   "execution_count": 348,
   "metadata": {},
   "outputs": [
    {
     "name": "stdout",
     "output_type": "stream",
     "text": [
      "0.25315871999763245\n",
      "0.3318860747339322\n"
     ]
    }
   ],
   "source": [
    "#print out the correlation and covariance of \n",
    "#Percent_with_medical_exemption and Percent_with_religious_exemption\n",
    "\n",
    "print(Corr(noz.Percent_with_medical_exemption,noz.Percent_with_religious_exemption))\n",
    "print(Cov(noz.Percent_with_medical_exemption,noz.Percent_with_religious_exemption))\n"
   ]
  },
  {
   "cell_type": "code",
   "execution_count": 349,
   "metadata": {},
   "outputs": [
    {
     "name": "stdout",
     "output_type": "stream",
     "text": [
      "0.3884741153333836\n",
      "1.3104595212830967\n"
     ]
    }
   ],
   "source": [
    "#creates new variable without outliers and print out the correlation and covariance of \n",
    "#Percent_with_medical_exemption and Percent_with_religious_exemption to see the difference between \n",
    "#the version with all data and the one without outliers\n",
    "\n",
    "no_outlier = noz[noz['Percent_with_medical_exemption'] <8]\n",
    "\n",
    "print(Corr(no_outlier.Percent_with_personal_exemption,no_outlier.Percent_with_religious_exemption))\n",
    "print(Cov(no_outlier.Percent_with_personal_exemption,no_outlier.Percent_with_religious_exemption))\n"
   ]
  },
  {
   "cell_type": "code",
   "execution_count": 350,
   "metadata": {},
   "outputs": [
    {
     "data": {
      "image/png": "[encoded data removed]",
      "text/plain": [
       "<Figure size 432x288 with 1 Axes>"
      ]
     },
     "metadata": {
      "needs_background": "light"
     },
     "output_type": "display_data"
    }
   ],
   "source": [
    "#Plots personal exemption % with religious exemption %\n",
    "\n",
    "thinkplot.Scatter(noz.Percent_with_personal_exemption,noz.Percent_with_religious_exemption, color = 'black', alpha = 1)"
   ]
  },
  {
   "cell_type": "code",
   "execution_count": 351,
   "metadata": {},
   "outputs": [
    {
     "name": "stdout",
     "output_type": "stream",
     "text": [
      "0.4221806053188286\n",
      "1.5955748719331484\n"
     ]
    }
   ],
   "source": [
    "#print out the correlation and covariance of \n",
    "#Percent_with_personal_exemption and Percent_with_religious_exemption\n",
    "\n",
    "\n",
    "print(Corr(noz.Percent_with_personal_exemption,noz.Percent_with_religious_exemption))\n",
    "print(Cov(noz.Percent_with_personal_exemption,noz.Percent_with_religious_exemption))\n"
   ]
  },
  {
   "cell_type": "code",
   "execution_count": 352,
   "metadata": {},
   "outputs": [
    {
     "name": "stdout",
     "output_type": "stream",
     "text": [
      "0.39485250770306973\n",
      "0.9665254354658509\n"
     ]
    }
   ],
   "source": [
    "#creates new variable without outliers and print out the correlation and covariance of \n",
    "#Percent_with_personal_exemption and Percent_with_religious_exemption to see the difference between \n",
    "#the version with all data and the one without outliers\n",
    "\n",
    "\n",
    "no_outlier = noz[(noz['Percent_with_religious_exemption'] <8) &(noz['Percent_with_personal_exemption'] <30)]\n",
    "\n",
    "print(Corr(no_outlier.Percent_with_personal_exemption,no_outlier.Percent_with_religious_exemption))\n",
    "print(Cov(no_outlier.Percent_with_personal_exemption,no_outlier.Percent_with_religious_exemption))\n"
   ]
  },
  {
   "cell_type": "code",
   "execution_count": null,
   "metadata": {},
   "outputs": [],
   "source": []
  },
  {
   "cell_type": "code",
   "execution_count": 353,
   "metadata": {},
   "outputs": [],
   "source": [
    "#creates class and functions to help with hypothesis test\n",
    "\n",
    "class DiffMeansPermute(thinkstats2.HypothesisTest):\n",
    "\n",
    "    def TestStatistic(self, data):\n",
    "        group1, group2 = data\n",
    "        test_stat = abs(group1.mean() - group2.mean())\n",
    "        return test_stat\n",
    "\n",
    "    def MakeModel(self):\n",
    "        group1, group2 = self.data\n",
    "        self.n, self.m = len(group1), len(group2)\n",
    "        self.pool = np.hstack((group1, group2))\n",
    "\n",
    "    def RunModel(self):\n",
    "        np.random.shuffle(self.pool)\n",
    "        data = self.pool[:self.n], self.pool[self.n:]\n",
    "        return data"
   ]
  },
  {
   "cell_type": "code",
   "execution_count": 354,
   "metadata": {},
   "outputs": [],
   "source": [
    "#creates class and function to help with hypothesis test\n",
    "\n",
    "class DiffMeansOneSided(DiffMeansPermute):\n",
    "\n",
    "    def TestStatistic(self, data):\n",
    "        group1, group2 = data\n",
    "        test_stat = group1.mean() - group2.mean()\n",
    "        return test_stat"
   ]
  },
  {
   "cell_type": "code",
   "execution_count": 355,
   "metadata": {},
   "outputs": [],
   "source": [
    "#creates class and function to help with hypothesis test\n",
    "\n",
    "class DiffStdPermute(DiffMeansPermute):\n",
    "\n",
    "    def TestStatistic(self, data):\n",
    "        group1, group2 = data\n",
    "        test_stat = group1.std() - group2.std()\n",
    "        return test_stat"
   ]
  },
  {
   "cell_type": "code",
   "execution_count": 356,
   "metadata": {},
   "outputs": [
    {
     "data": {
      "text/plain": [
       "0.007"
      ]
     },
     "execution_count": 356,
     "metadata": {},
     "output_type": "execute_result"
    }
   ],
   "source": [
    "#here we use the permutation test\n",
    "\n",
    "data_kinder = data[data['Has_kindergarten'] == 'Y']\n",
    "data_six = data[data['Has_6thGrade'] == 'Y']\n",
    "data_neither = data[(data['Has_6thGrade'] == 'N') & (data['Has_kindergarten'] == 'N')]\n",
    "import first\n",
    "\n",
    "kinder_sixth = data_six.Percent_with_any_exemption.values, data_kinder.Percent_with_any_exemption.values\n",
    "\n",
    "ht = DiffMeansPermute(kinder_sixth)\n",
    "pvalue = ht.PValue()\n",
    "pvalue\n"
   ]
  },
  {
   "cell_type": "code",
   "execution_count": 357,
   "metadata": {},
   "outputs": [
    {
     "data": {
      "image/png": "[encoded data removed]",
      "text/plain": [
       "<Figure size 432x288 with 1 Axes>"
      ]
     },
     "metadata": {
      "needs_background": "light"
     },
     "output_type": "display_data"
    }
   ],
   "source": [
    "ht.PlotCdf()\n",
    "thinkplot.Config(xlabel='test statistic',\n",
    "                   ylabel='CDF')"
   ]
  },
  {
   "cell_type": "code",
   "execution_count": null,
   "metadata": {},
   "outputs": [],
   "source": []
  },
  {
   "cell_type": "code",
   "execution_count": 358,
   "metadata": {},
   "outputs": [],
   "source": [
    "#Here we look for the difference in standard deviation."
   ]
  },
  {
   "cell_type": "code",
   "execution_count": 359,
   "metadata": {},
   "outputs": [
    {
     "data": {
      "text/plain": [
       "0.006"
      ]
     },
     "execution_count": 359,
     "metadata": {},
     "output_type": "execute_result"
    }
   ],
   "source": [
    "ht = DiffMeansOneSided(kinder_sixth)\n",
    "pvalue = ht.PValue()\n",
    "pvalue"
   ]
  },
  {
   "cell_type": "code",
   "execution_count": 360,
   "metadata": {},
   "outputs": [
    {
     "data": {
      "text/plain": [
       "0.221"
      ]
     },
     "execution_count": 360,
     "metadata": {},
     "output_type": "execute_result"
    }
   ],
   "source": [
    "ht = DiffStdPermute(kinder_sixth)\n",
    "pvalue = ht.PValue()\n",
    "pvalue"
   ]
  },
  {
   "cell_type": "code",
   "execution_count": null,
   "metadata": {},
   "outputs": [],
   "source": []
  },
  {
   "cell_type": "code",
   "execution_count": 361,
   "metadata": {},
   "outputs": [],
   "source": [
    "#Hwere we are testing correlation"
   ]
  },
  {
   "cell_type": "code",
   "execution_count": 362,
   "metadata": {},
   "outputs": [
    {
     "data": {
      "text/plain": [
       "0.0"
      ]
     },
     "execution_count": 362,
     "metadata": {},
     "output_type": "execute_result"
    }
   ],
   "source": [
    "six_neither = data_six.Percent_with_any_exemption.values, data_neither.Percent_with_any_exemption.values\n",
    "\n",
    "ht = DiffMeansPermute(six_neither)\n",
    "pvalue = ht.PValue()\n",
    "pvalue"
   ]
  },
  {
   "cell_type": "code",
   "execution_count": 363,
   "metadata": {},
   "outputs": [
    {
     "data": {
      "image/png": "[encoded data removed]",
      "text/plain": [
       "<Figure size 432x288 with 1 Axes>"
      ]
     },
     "metadata": {
      "needs_background": "light"
     },
     "output_type": "display_data"
    }
   ],
   "source": [
    "ht.PlotCdf()\n",
    "thinkplot.Config(xlabel='test statistic',\n",
    "                   ylabel='CDF')"
   ]
  },
  {
   "cell_type": "code",
   "execution_count": 364,
   "metadata": {},
   "outputs": [
    {
     "data": {
      "text/plain": [
       "0.0"
      ]
     },
     "execution_count": 364,
     "metadata": {},
     "output_type": "execute_result"
    }
   ],
   "source": [
    "ht = DiffMeansOneSided(six_neither)\n",
    "pvalue = ht.PValue()\n",
    "pvalue"
   ]
  },
  {
   "cell_type": "code",
   "execution_count": 365,
   "metadata": {},
   "outputs": [
    {
     "data": {
      "text/plain": [
       "0.0"
      ]
     },
     "execution_count": 365,
     "metadata": {},
     "output_type": "execute_result"
    }
   ],
   "source": [
    "ht = DiffStdPermute(six_neither)\n",
    "pvalue = ht.PValue()\n",
    "pvalue"
   ]
  },
  {
   "cell_type": "code",
   "execution_count": 366,
   "metadata": {},
   "outputs": [
    {
     "data": {
      "text/plain": [
       "0.022"
      ]
     },
     "execution_count": 366,
     "metadata": {},
     "output_type": "execute_result"
    }
   ],
   "source": [
    "kinder_neither = data_kinder.Percent_with_any_exemption.values, data_neither.Percent_with_any_exemption.values\n",
    "\n",
    "ht = DiffMeansPermute(kinder_neither)\n",
    "pvalue = ht.PValue()\n",
    "pvalue"
   ]
  },
  {
   "cell_type": "code",
   "execution_count": 367,
   "metadata": {},
   "outputs": [
    {
     "data": {
      "image/png": "[encoded data removed]",
      "text/plain": [
       "<Figure size 432x288 with 1 Axes>"
      ]
     },
     "metadata": {
      "needs_background": "light"
     },
     "output_type": "display_data"
    }
   ],
   "source": [
    "ht.PlotCdf()\n",
    "thinkplot.Config(xlabel='test statistic',\n",
    "                   ylabel='CDF')"
   ]
  },
  {
   "cell_type": "code",
   "execution_count": 368,
   "metadata": {},
   "outputs": [
    {
     "data": {
      "text/plain": [
       "0.012"
      ]
     },
     "execution_count": 368,
     "metadata": {},
     "output_type": "execute_result"
    }
   ],
   "source": [
    "ht = DiffMeansOneSided(kinder_neither)\n",
    "pvalue = ht.PValue()\n",
    "pvalue"
   ]
  },
  {
   "cell_type": "code",
   "execution_count": 369,
   "metadata": {},
   "outputs": [
    {
     "data": {
      "text/plain": [
       "0.0"
      ]
     },
     "execution_count": 369,
     "metadata": {},
     "output_type": "execute_result"
    }
   ],
   "source": [
    "ht = DiffStdPermute(kinder_neither)\n",
    "pvalue = ht.PValue()\n",
    "pvalue"
   ]
  },
  {
   "cell_type": "code",
   "execution_count": null,
   "metadata": {},
   "outputs": [],
   "source": []
  },
  {
   "cell_type": "code",
   "execution_count": 370,
   "metadata": {},
   "outputs": [],
   "source": [
    "#Here we use regression to test a few \n",
    "#different scenarios using variations of Percent_with_any_exemption,\n",
    "#Percent_with_personal_exemption, and Percent_with_religious_exemption. \n",
    "#We then look for the parameters, p-value of the slope estimate, and the \n",
    "#coefficient of determination."
   ]
  },
  {
   "cell_type": "code",
   "execution_count": 371,
   "metadata": {},
   "outputs": [],
   "source": [
    "import statsmodels.formula.api as smf"
   ]
  },
  {
   "cell_type": "code",
   "execution_count": null,
   "metadata": {},
   "outputs": [],
   "source": []
  },
  {
   "cell_type": "code",
   "execution_count": null,
   "metadata": {},
   "outputs": [],
   "source": [
    "\n"
   ]
  },
  {
   "cell_type": "code",
   "execution_count": 372,
   "metadata": {},
   "outputs": [
    {
     "data": {
      "text/html": [
       "<table class=\"simpletable\">\n",
       "<caption>OLS Regression Results</caption>\n",
       "<tr>\n",
       "  <th>Dep. Variable:</th>    <td>Percent_with_any_exemption</td> <th>  R-squared:         </th> <td>   0.924</td> \n",
       "</tr>\n",
       "<tr>\n",
       "  <th>Model:</th>                        <td>OLS</td>            <th>  Adj. R-squared:    </th> <td>   0.924</td> \n",
       "</tr>\n",
       "<tr>\n",
       "  <th>Method:</th>                  <td>Least Squares</td>       <th>  F-statistic:       </th> <td>3.018e+04</td>\n",
       "</tr>\n",
       "<tr>\n",
       "  <th>Date:</th>                  <td>Fri, 15 Nov 2019</td>      <th>  Prob (F-statistic):</th>  <td>  0.00</td>  \n",
       "</tr>\n",
       "<tr>\n",
       "  <th>Time:</th>                      <td>21:37:18</td>          <th>  Log-Likelihood:    </th> <td> -5334.5</td> \n",
       "</tr>\n",
       "<tr>\n",
       "  <th>No. Observations:</th>           <td>  2471</td>           <th>  AIC:               </th> <td>1.067e+04</td>\n",
       "</tr>\n",
       "<tr>\n",
       "  <th>Df Residuals:</th>               <td>  2469</td>           <th>  BIC:               </th> <td>1.068e+04</td>\n",
       "</tr>\n",
       "<tr>\n",
       "  <th>Df Model:</th>                   <td>     1</td>           <th>                     </th>     <td> </td>    \n",
       "</tr>\n",
       "<tr>\n",
       "  <th>Covariance Type:</th>           <td>nonrobust</td>         <th>                     </th>     <td> </td>    \n",
       "</tr>\n",
       "</table>\n",
       "<table class=\"simpletable\">\n",
       "<tr>\n",
       "                 <td></td>                    <th>coef</th>     <th>std err</th>      <th>t</th>      <th>P>|t|</th>  <th>[0.025</th>    <th>0.975]</th>  \n",
       "</tr>\n",
       "<tr>\n",
       "  <th>Intercept</th>                       <td>    1.2000</td> <td>    0.052</td> <td>   23.160</td> <td> 0.000</td> <td>    1.098</td> <td>    1.302</td>\n",
       "</tr>\n",
       "<tr>\n",
       "  <th>Percent_with_personal_exemption</th> <td>    1.0458</td> <td>    0.006</td> <td>  173.727</td> <td> 0.000</td> <td>    1.034</td> <td>    1.058</td>\n",
       "</tr>\n",
       "</table>\n",
       "<table class=\"simpletable\">\n",
       "<tr>\n",
       "  <th>Omnibus:</th>       <td>3287.475</td> <th>  Durbin-Watson:     </th>  <td>   2.008</td>  \n",
       "</tr>\n",
       "<tr>\n",
       "  <th>Prob(Omnibus):</th>  <td> 0.000</td>  <th>  Jarque-Bera (JB):  </th> <td>1329495.967</td>\n",
       "</tr>\n",
       "<tr>\n",
       "  <th>Skew:</th>           <td> 7.102</td>  <th>  Prob(JB):          </th>  <td>    0.00</td>  \n",
       "</tr>\n",
       "<tr>\n",
       "  <th>Kurtosis:</th>       <td>115.744</td> <th>  Cond. No.          </th>  <td>    10.6</td>  \n",
       "</tr>\n",
       "</table><br/><br/>Warnings:<br/>[1] Standard Errors assume that the covariance matrix of the errors is correctly specified."
      ],
      "text/plain": [
       "<class 'statsmodels.iolib.summary.Summary'>\n",
       "\"\"\"\n",
       "                                OLS Regression Results                                \n",
       "======================================================================================\n",
       "Dep. Variable:     Percent_with_any_exemption   R-squared:                       0.924\n",
       "Model:                                    OLS   Adj. R-squared:                  0.924\n",
       "Method:                         Least Squares   F-statistic:                 3.018e+04\n",
       "Date:                        Fri, 15 Nov 2019   Prob (F-statistic):               0.00\n",
       "Time:                                21:37:18   Log-Likelihood:                -5334.5\n",
       "No. Observations:                        2471   AIC:                         1.067e+04\n",
       "Df Residuals:                            2469   BIC:                         1.068e+04\n",
       "Df Model:                                   1                                         \n",
       "Covariance Type:                    nonrobust                                         \n",
       "===================================================================================================\n",
       "                                      coef    std err          t      P>|t|      [0.025      0.975]\n",
       "---------------------------------------------------------------------------------------------------\n",
       "Intercept                           1.2000      0.052     23.160      0.000       1.098       1.302\n",
       "Percent_with_personal_exemption     1.0458      0.006    173.727      0.000       1.034       1.058\n",
       "==============================================================================\n",
       "Omnibus:                     3287.475   Durbin-Watson:                   2.008\n",
       "Prob(Omnibus):                  0.000   Jarque-Bera (JB):          1329495.967\n",
       "Skew:                           7.102   Prob(JB):                         0.00\n",
       "Kurtosis:                     115.744   Cond. No.                         10.6\n",
       "==============================================================================\n",
       "\n",
       "Warnings:\n",
       "[1] Standard Errors assume that the covariance matrix of the errors is correctly specified.\n",
       "\"\"\""
      ]
     },
     "execution_count": 372,
     "metadata": {},
     "output_type": "execute_result"
    }
   ],
   "source": [
    "formula = 'Percent_with_any_exemption ~ Percent_with_personal_exemption'\n",
    "model = smf.ols(formula, data=data)\n",
    "results = model.fit()\n",
    "results.summary()"
   ]
  },
  {
   "cell_type": "code",
   "execution_count": null,
   "metadata": {},
   "outputs": [],
   "source": []
  },
  {
   "cell_type": "code",
   "execution_count": 373,
   "metadata": {},
   "outputs": [
    {
     "data": {
      "text/plain": [
       "(1.2000160366138055, 1.0458485175307464)"
      ]
     },
     "execution_count": 373,
     "metadata": {},
     "output_type": "execute_result"
    }
   ],
   "source": [
    "inter = results.params['Intercept']\n",
    "slope = results.params['Percent_with_personal_exemption']\n",
    "inter, slope"
   ]
  },
  {
   "cell_type": "code",
   "execution_count": 374,
   "metadata": {},
   "outputs": [
    {
     "data": {
      "text/plain": [
       "0.0"
      ]
     },
     "execution_count": 374,
     "metadata": {},
     "output_type": "execute_result"
    }
   ],
   "source": [
    "slope_pvalue = results.pvalues['Percent_with_personal_exemption']\n",
    "slope_pvalue"
   ]
  },
  {
   "cell_type": "code",
   "execution_count": 375,
   "metadata": {},
   "outputs": [
    {
     "data": {
      "text/plain": [
       "0.9243796531173751"
      ]
     },
     "execution_count": 375,
     "metadata": {},
     "output_type": "execute_result"
    }
   ],
   "source": [
    "results.rsquared"
   ]
  },
  {
   "cell_type": "code",
   "execution_count": null,
   "metadata": {},
   "outputs": [],
   "source": []
  },
  {
   "cell_type": "code",
   "execution_count": 376,
   "metadata": {},
   "outputs": [
    {
     "data": {
      "text/html": [
       "<table class=\"simpletable\">\n",
       "<caption>OLS Regression Results</caption>\n",
       "<tr>\n",
       "  <th>Dep. Variable:</th>    <td>Percent_with_any_exemption</td> <th>  R-squared:         </th> <td>   0.099</td> \n",
       "</tr>\n",
       "<tr>\n",
       "  <th>Model:</th>                        <td>OLS</td>            <th>  Adj. R-squared:    </th> <td>   0.099</td> \n",
       "</tr>\n",
       "<tr>\n",
       "  <th>Method:</th>                  <td>Least Squares</td>       <th>  F-statistic:       </th> <td>   271.5</td> \n",
       "</tr>\n",
       "<tr>\n",
       "  <th>Date:</th>                  <td>Fri, 15 Nov 2019</td>      <th>  Prob (F-statistic):</th> <td>5.96e-58</td> \n",
       "</tr>\n",
       "<tr>\n",
       "  <th>Time:</th>                      <td>21:37:18</td>          <th>  Log-Likelihood:    </th> <td> -8395.7</td> \n",
       "</tr>\n",
       "<tr>\n",
       "  <th>No. Observations:</th>           <td>  2471</td>           <th>  AIC:               </th> <td>1.680e+04</td>\n",
       "</tr>\n",
       "<tr>\n",
       "  <th>Df Residuals:</th>               <td>  2469</td>           <th>  BIC:               </th> <td>1.681e+04</td>\n",
       "</tr>\n",
       "<tr>\n",
       "  <th>Df Model:</th>                   <td>     1</td>           <th>                     </th>     <td> </td>    \n",
       "</tr>\n",
       "<tr>\n",
       "  <th>Covariance Type:</th>           <td>nonrobust</td>         <th>                     </th>     <td> </td>    \n",
       "</tr>\n",
       "</table>\n",
       "<table class=\"simpletable\">\n",
       "<tr>\n",
       "                 <td></td>                   <th>coef</th>     <th>std err</th>      <th>t</th>      <th>P>|t|</th>  <th>[0.025</th>    <th>0.975]</th>  \n",
       "</tr>\n",
       "<tr>\n",
       "  <th>Intercept</th>                      <td>    4.8190</td> <td>    0.175</td> <td>   27.487</td> <td> 0.000</td> <td>    4.475</td> <td>    5.163</td>\n",
       "</tr>\n",
       "<tr>\n",
       "  <th>Percent_with_medical_exemption</th> <td>    1.4446</td> <td>    0.088</td> <td>   16.477</td> <td> 0.000</td> <td>    1.273</td> <td>    1.617</td>\n",
       "</tr>\n",
       "</table>\n",
       "<table class=\"simpletable\">\n",
       "<tr>\n",
       "  <th>Omnibus:</th>       <td>2366.806</td> <th>  Durbin-Watson:     </th> <td>   1.990</td> \n",
       "</tr>\n",
       "<tr>\n",
       "  <th>Prob(Omnibus):</th>  <td> 0.000</td>  <th>  Jarque-Bera (JB):  </th> <td>99325.584</td>\n",
       "</tr>\n",
       "<tr>\n",
       "  <th>Skew:</th>           <td> 4.638</td>  <th>  Prob(JB):          </th> <td>    0.00</td> \n",
       "</tr>\n",
       "<tr>\n",
       "  <th>Kurtosis:</th>       <td>32.643</td>  <th>  Cond. No.          </th> <td>    2.63</td> \n",
       "</tr>\n",
       "</table><br/><br/>Warnings:<br/>[1] Standard Errors assume that the covariance matrix of the errors is correctly specified."
      ],
      "text/plain": [
       "<class 'statsmodels.iolib.summary.Summary'>\n",
       "\"\"\"\n",
       "                                OLS Regression Results                                \n",
       "======================================================================================\n",
       "Dep. Variable:     Percent_with_any_exemption   R-squared:                       0.099\n",
       "Model:                                    OLS   Adj. R-squared:                  0.099\n",
       "Method:                         Least Squares   F-statistic:                     271.5\n",
       "Date:                        Fri, 15 Nov 2019   Prob (F-statistic):           5.96e-58\n",
       "Time:                                21:37:18   Log-Likelihood:                -8395.7\n",
       "No. Observations:                        2471   AIC:                         1.680e+04\n",
       "Df Residuals:                            2469   BIC:                         1.681e+04\n",
       "Df Model:                                   1                                         \n",
       "Covariance Type:                    nonrobust                                         \n",
       "==================================================================================================\n",
       "                                     coef    std err          t      P>|t|      [0.025      0.975]\n",
       "--------------------------------------------------------------------------------------------------\n",
       "Intercept                          4.8190      0.175     27.487      0.000       4.475       5.163\n",
       "Percent_with_medical_exemption     1.4446      0.088     16.477      0.000       1.273       1.617\n",
       "==============================================================================\n",
       "Omnibus:                     2366.806   Durbin-Watson:                   1.990\n",
       "Prob(Omnibus):                  0.000   Jarque-Bera (JB):            99325.584\n",
       "Skew:                           4.638   Prob(JB):                         0.00\n",
       "Kurtosis:                      32.643   Cond. No.                         2.63\n",
       "==============================================================================\n",
       "\n",
       "Warnings:\n",
       "[1] Standard Errors assume that the covariance matrix of the errors is correctly specified.\n",
       "\"\"\""
      ]
     },
     "execution_count": 376,
     "metadata": {},
     "output_type": "execute_result"
    }
   ],
   "source": [
    "formula = 'Percent_with_any_exemption ~ Percent_with_medical_exemption'\n",
    "model = smf.ols(formula, data=data)\n",
    "results = model.fit()\n",
    "results.summary()"
   ]
  },
  {
   "cell_type": "code",
   "execution_count": 377,
   "metadata": {},
   "outputs": [
    {
     "data": {
      "text/plain": [
       "(4.818982139075185, 1.4445936159635013)"
      ]
     },
     "execution_count": 377,
     "metadata": {},
     "output_type": "execute_result"
    }
   ],
   "source": [
    "inter = results.params['Intercept']\n",
    "slope = results.params['Percent_with_medical_exemption']\n",
    "inter, slope"
   ]
  },
  {
   "cell_type": "code",
   "execution_count": 378,
   "metadata": {},
   "outputs": [
    {
     "data": {
      "text/plain": [
       "5.963934783145357e-58"
      ]
     },
     "execution_count": 378,
     "metadata": {},
     "output_type": "execute_result"
    }
   ],
   "source": [
    "slope_pvalue = results.pvalues['Percent_with_medical_exemption']\n",
    "slope_pvalue"
   ]
  },
  {
   "cell_type": "code",
   "execution_count": 379,
   "metadata": {},
   "outputs": [
    {
     "data": {
      "text/plain": [
       "0.0990643866049764"
      ]
     },
     "execution_count": 379,
     "metadata": {},
     "output_type": "execute_result"
    }
   ],
   "source": [
    "results.rsquared"
   ]
  },
  {
   "cell_type": "code",
   "execution_count": null,
   "metadata": {},
   "outputs": [],
   "source": []
  },
  {
   "cell_type": "code",
   "execution_count": 380,
   "metadata": {},
   "outputs": [
    {
     "data": {
      "text/html": [
       "<table class=\"simpletable\">\n",
       "<caption>OLS Regression Results</caption>\n",
       "<tr>\n",
       "  <th>Dep. Variable:</th>    <td>Percent_with_any_exemption</td> <th>  R-squared:         </th> <td>   0.102</td> \n",
       "</tr>\n",
       "<tr>\n",
       "  <th>Model:</th>                        <td>OLS</td>            <th>  Adj. R-squared:    </th> <td>   0.101</td> \n",
       "</tr>\n",
       "<tr>\n",
       "  <th>Method:</th>                  <td>Least Squares</td>       <th>  F-statistic:       </th> <td>   279.5</td> \n",
       "</tr>\n",
       "<tr>\n",
       "  <th>Date:</th>                  <td>Fri, 15 Nov 2019</td>      <th>  Prob (F-statistic):</th> <td>1.60e-59</td> \n",
       "</tr>\n",
       "<tr>\n",
       "  <th>Time:</th>                      <td>21:37:18</td>          <th>  Log-Likelihood:    </th> <td> -8392.1</td> \n",
       "</tr>\n",
       "<tr>\n",
       "  <th>No. Observations:</th>           <td>  2471</td>           <th>  AIC:               </th> <td>1.679e+04</td>\n",
       "</tr>\n",
       "<tr>\n",
       "  <th>Df Residuals:</th>               <td>  2469</td>           <th>  BIC:               </th> <td>1.680e+04</td>\n",
       "</tr>\n",
       "<tr>\n",
       "  <th>Df Model:</th>                   <td>     1</td>           <th>                     </th>     <td> </td>    \n",
       "</tr>\n",
       "<tr>\n",
       "  <th>Covariance Type:</th>           <td>nonrobust</td>         <th>                     </th>     <td> </td>    \n",
       "</tr>\n",
       "</table>\n",
       "<table class=\"simpletable\">\n",
       "<tr>\n",
       "                  <td></td>                    <th>coef</th>     <th>std err</th>      <th>t</th>      <th>P>|t|</th>  <th>[0.025</th>    <th>0.975]</th>  \n",
       "</tr>\n",
       "<tr>\n",
       "  <th>Intercept</th>                        <td>    5.5898</td> <td>    0.154</td> <td>   36.350</td> <td> 0.000</td> <td>    5.288</td> <td>    5.891</td>\n",
       "</tr>\n",
       "<tr>\n",
       "  <th>Percent_with_religious_exemption</th> <td>    2.2877</td> <td>    0.137</td> <td>   16.718</td> <td> 0.000</td> <td>    2.019</td> <td>    2.556</td>\n",
       "</tr>\n",
       "</table>\n",
       "<table class=\"simpletable\">\n",
       "<tr>\n",
       "  <th>Omnibus:</th>       <td>2249.667</td> <th>  Durbin-Watson:     </th> <td>   2.007</td> \n",
       "</tr>\n",
       "<tr>\n",
       "  <th>Prob(Omnibus):</th>  <td> 0.000</td>  <th>  Jarque-Bera (JB):  </th> <td>81899.934</td>\n",
       "</tr>\n",
       "<tr>\n",
       "  <th>Skew:</th>           <td> 4.323</td>  <th>  Prob(JB):          </th> <td>    0.00</td> \n",
       "</tr>\n",
       "<tr>\n",
       "  <th>Kurtosis:</th>       <td>29.846</td>  <th>  Cond. No.          </th> <td>    1.43</td> \n",
       "</tr>\n",
       "</table><br/><br/>Warnings:<br/>[1] Standard Errors assume that the covariance matrix of the errors is correctly specified."
      ],
      "text/plain": [
       "<class 'statsmodels.iolib.summary.Summary'>\n",
       "\"\"\"\n",
       "                                OLS Regression Results                                \n",
       "======================================================================================\n",
       "Dep. Variable:     Percent_with_any_exemption   R-squared:                       0.102\n",
       "Model:                                    OLS   Adj. R-squared:                  0.101\n",
       "Method:                         Least Squares   F-statistic:                     279.5\n",
       "Date:                        Fri, 15 Nov 2019   Prob (F-statistic):           1.60e-59\n",
       "Time:                                21:37:18   Log-Likelihood:                -8392.1\n",
       "No. Observations:                        2471   AIC:                         1.679e+04\n",
       "Df Residuals:                            2469   BIC:                         1.680e+04\n",
       "Df Model:                                   1                                         \n",
       "Covariance Type:                    nonrobust                                         \n",
       "====================================================================================================\n",
       "                                       coef    std err          t      P>|t|      [0.025      0.975]\n",
       "----------------------------------------------------------------------------------------------------\n",
       "Intercept                            5.5898      0.154     36.350      0.000       5.288       5.891\n",
       "Percent_with_religious_exemption     2.2877      0.137     16.718      0.000       2.019       2.556\n",
       "==============================================================================\n",
       "Omnibus:                     2249.667   Durbin-Watson:                   2.007\n",
       "Prob(Omnibus):                  0.000   Jarque-Bera (JB):            81899.934\n",
       "Skew:                           4.323   Prob(JB):                         0.00\n",
       "Kurtosis:                      29.846   Cond. No.                         1.43\n",
       "==============================================================================\n",
       "\n",
       "Warnings:\n",
       "[1] Standard Errors assume that the covariance matrix of the errors is correctly specified.\n",
       "\"\"\""
      ]
     },
     "execution_count": 380,
     "metadata": {},
     "output_type": "execute_result"
    }
   ],
   "source": [
    "formula = 'Percent_with_any_exemption ~ Percent_with_religious_exemption'\n",
    "model = smf.ols(formula, data=data)\n",
    "results = model.fit()\n",
    "results.summary()"
   ]
  },
  {
   "cell_type": "code",
   "execution_count": 381,
   "metadata": {},
   "outputs": [
    {
     "data": {
      "text/plain": [
       "(5.589846174209833, 2.287691392776092)"
      ]
     },
     "execution_count": 381,
     "metadata": {},
     "output_type": "execute_result"
    }
   ],
   "source": [
    "inter = results.params['Intercept']\n",
    "slope = results.params['Percent_with_religious_exemption']\n",
    "inter, slope"
   ]
  },
  {
   "cell_type": "code",
   "execution_count": 382,
   "metadata": {},
   "outputs": [
    {
     "data": {
      "text/plain": [
       "1.6014235399615948e-59"
      ]
     },
     "execution_count": 382,
     "metadata": {},
     "output_type": "execute_result"
    }
   ],
   "source": [
    "slope_pvalue = results.pvalues['Percent_with_religious_exemption']\n",
    "slope_pvalue"
   ]
  },
  {
   "cell_type": "code",
   "execution_count": 383,
   "metadata": {},
   "outputs": [
    {
     "data": {
      "text/plain": [
       "0.10169106429146457"
      ]
     },
     "execution_count": 383,
     "metadata": {},
     "output_type": "execute_result"
    }
   ],
   "source": [
    "results.rsquared"
   ]
  },
  {
   "cell_type": "code",
   "execution_count": null,
   "metadata": {},
   "outputs": [],
   "source": []
  },
  {
   "cell_type": "code",
   "execution_count": null,
   "metadata": {},
   "outputs": [],
   "source": []
  }
 ],
 "metadata": {
  "kernelspec": {
   "display_name": "Python 3",
   "language": "python",
   "name": "python3"
  },
  "language_info": {
   "codemirror_mode": {
    "name": "ipython",
    "version": 3
   },
   "file_extension": ".py",
   "mimetype": "text/x-python",
   "name": "python",
   "nbconvert_exporter": "python",
   "pygments_lexer": "ipython3",
   "version": "3.7.3"
  }
 },
 "nbformat": 4,
 "nbformat_minor": 2
}
